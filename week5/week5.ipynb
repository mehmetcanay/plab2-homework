{
 "cells": [
  {
   "cell_type": "markdown",
   "metadata": {},
   "source": [
    "# Homework week5"
   ]
  },
  {
   "cell_type": "markdown",
   "metadata": {},
   "source": [
    "**author:** Mehmet Can Ay <br>\n",
    "2023-11-23"
   ]
  },
  {
   "cell_type": "code",
   "execution_count": 1,
   "metadata": {},
   "outputs": [],
   "source": [
    "## uncomment this if needed\n",
    "#!pip install -r requirements.txt"
   ]
  },
  {
   "cell_type": "markdown",
   "metadata": {},
   "source": [
    "## Import"
   ]
  },
  {
   "cell_type": "code",
   "execution_count": 2,
   "metadata": {},
   "outputs": [],
   "source": [
    "import os\n",
    "import pandas as pd\n",
    "import numpy as np\n",
    "from sqlalchemy import create_engine"
   ]
  },
  {
   "cell_type": "markdown",
   "metadata": {},
   "source": [
    "## Getting the Data"
   ]
  },
  {
   "cell_type": "markdown",
   "metadata": {},
   "source": [
    "### Pathway Table"
   ]
  },
  {
   "cell_type": "code",
   "execution_count": 3,
   "metadata": {},
   "outputs": [],
   "source": [
    "list_of_table: list[pd.DataFrame] = pd.read_html(\"https://www.wikipathways.org/browse/table.html\")\n",
    "pathways: pd.DataFrame = list_of_table[0]\n",
    "pathways.rename(columns={0: \"Pathway Title\", \n",
    "                      1: \"ID\", \n",
    "                      2: \"Organism\", \n",
    "                      3: \"Last Edited\", \n",
    "                      4: \"Communities\", \n",
    "                      5: \"Pathway Terms\", \n",
    "                      6: \"Disease Terms\", \n",
    "                      7: \"Cell Types\"}, inplace=True)"
   ]
  },
  {
   "cell_type": "markdown",
   "metadata": {},
   "source": [
    "### Pathway Components for Homo Sapiens"
   ]
  },
  {
   "cell_type": "markdown",
   "metadata": {},
   "source": [
    "Homo sapiens database is downloaded from WikiPathways's [Downloads](https://data.wikipathways.org/current/gpml/) section. Unfortunately the file does not follow conventions of .xml file and therefore, the reading of the file is troublesome."
   ]
  },
  {
   "cell_type": "code",
   "execution_count": 4,
   "metadata": {},
   "outputs": [],
   "source": [
    "# An empty list to hold dataframes\n",
    "dfs: list[pd.DataFrame] = []\n",
    "\n",
    "# A path to database folder\n",
    "xml_folder_path: str = \"./data/wikipathways/\"\n",
    "\n",
    "# Extracting the names of .XML files\n",
    "xml_files: list[str] = [file for file in os.listdir(xml_folder_path)]\n",
    "\n",
    "# Creating a dataframe with each .XML file and appending them to the list of dfs\n",
    "for xml in xml_files:\n",
    "    path: str = os.path.join(xml_folder_path, xml)\n",
    "    df: pd.DataFrame = pd.read_xml(path, namespaces={\"doc\": \"http://pathvisio.org/GPML/2013a\"})\n",
    "    dfs.append(df)\n",
    "\n",
    "# Concatanating all dfs in the list\n",
    "homo_sapiens: pd.DataFrame = pd.concat(dfs)\n",
    "\n",
    "# Resetting the index of the database dataframe\n",
    "homo_sapiens.reset_index(drop=True, inplace=True)\n",
    "\n",
    "# Replacing artifacts with NaN.\n",
    "homo_sapiens.replace({\"\\n      \": np.nan}, inplace=True)"
   ]
  },
  {
   "cell_type": "markdown",
   "metadata": {},
   "source": [
    "## Exporting as .csv file"
   ]
  },
  {
   "cell_type": "code",
   "execution_count": 5,
   "metadata": {},
   "outputs": [],
   "source": [
    "# Saving the pathways as .csv file\n",
    "pathways.to_csv(\"./data/pathways.csv\", index=False)"
   ]
  },
  {
   "cell_type": "code",
   "execution_count": 6,
   "metadata": {},
   "outputs": [],
   "source": [
    "# Selecting the first 10000 rows\n",
    "homo_sapiens = homo_sapiens.iloc[0: 10000]\n",
    "\n",
    "# Saving the component as .csv file\n",
    "homo_sapiens.to_csv(\"./data/homo_sapiens.csv\", index=False)\n",
    "\n",
    "del pathways\n",
    "del homo_sapiens"
   ]
  },
  {
   "cell_type": "markdown",
   "metadata": {},
   "source": [
    "## Loading the Data with Pandas"
   ]
  },
  {
   "cell_type": "code",
   "execution_count": 7,
   "metadata": {},
   "outputs": [],
   "source": [
    "# Reading the sampled database\n",
    "pathways: pd.DataFrame = pd.read_csv(\"./data/pathways.csv\")"
   ]
  },
  {
   "cell_type": "code",
   "execution_count": 8,
   "metadata": {},
   "outputs": [],
   "source": [
    "# Reading the sampled database\n",
    "homo_sapiens: pd.DataFrame = pd.read_csv(\"./data/homo_sapiens.csv\")\n",
    "\n",
    "# For simplyfing the dataframe, all columns that contains only NaN values dropped.\n",
    "homo_sapiens.dropna(axis=1, how=\"all\", inplace=True)\n",
    "\n",
    "# Removing '\\n' from the entire DataFrame\n",
    "homo_sapiens = homo_sapiens.map(lambda x: x.replace('\\n', '') if isinstance(x, str) else x)"
   ]
  },
  {
   "cell_type": "markdown",
   "metadata": {},
   "source": [
    "## Saving as SQL Database"
   ]
  },
  {
   "cell_type": "code",
   "execution_count": 9,
   "metadata": {},
   "outputs": [
    {
     "data": {
      "text/plain": [
       "1922"
      ]
     },
     "execution_count": 9,
     "metadata": {},
     "output_type": "execute_result"
    }
   ],
   "source": [
    "# Creating an SQL database\n",
    "engine = create_engine(\"sqlite:///data/pathways.db\", echo=False)\n",
    "\n",
    "# Writing to the creted SQL database\n",
    "pathways.to_sql(\"pathways\", con=engine, index=False)"
   ]
  },
  {
   "cell_type": "code",
   "execution_count": 10,
   "metadata": {},
   "outputs": [],
   "source": [
    "# Creating an SQL database\n",
    "engine = create_engine(\"sqlite:///data/homo_sapiens.db\", echo=False)\n",
    "\n",
    "# Writing to the creted SQL database\n",
    "homo_sapiens.to_sql(\"homo_sapiens\", con=engine, index=False)\n",
    "\n",
    "del pathways\n",
    "del homo_sapiens"
   ]
  },
  {
   "cell_type": "markdown",
   "metadata": {},
   "source": [
    "## Opening the Database with SQL"
   ]
  },
  {
   "cell_type": "code",
   "execution_count": 11,
   "metadata": {},
   "outputs": [],
   "source": [
    "%%capture\n",
    "%load_ext sql\n",
    "%sql sqlite:///data/pathways.db"
   ]
  },
  {
   "cell_type": "markdown",
   "metadata": {},
   "source": [
    "Inspection of the first 10 rows in the database"
   ]
  },
  {
   "cell_type": "code",
   "execution_count": 12,
   "metadata": {},
   "outputs": [
    {
     "name": "stdout",
     "output_type": "stream",
     "text": [
      " * sqlite:///data/pathways.db\n",
      "Done.\n"
     ]
    },
    {
     "data": {
      "text/html": [
       "<table>\n",
       "    <thead>\n",
       "        <tr>\n",
       "            <th>Pathway Title</th>\n",
       "            <th>ID</th>\n",
       "            <th>Organism</th>\n",
       "            <th>Last Edited</th>\n",
       "            <th>Communities</th>\n",
       "            <th>Pathway Terms</th>\n",
       "            <th>Disease Terms</th>\n",
       "            <th>Cell Types</th>\n",
       "        </tr>\n",
       "    </thead>\n",
       "    <tbody>\n",
       "        <tr>\n",
       "            <td>Hfe effect on hepcidin production</td>\n",
       "            <td>WP3673</td>\n",
       "            <td>Mus musculus</td>\n",
       "            <td>13 Dec 2016</td>\n",
       "            <td>None</td>\n",
       "            <td>regulatory pathway, iron homeostasis pathway</td>\n",
       "            <td>None</td>\n",
       "            <td>None</td>\n",
       "        </tr>\n",
       "        <tr>\n",
       "            <td>Lipids measured in liver metastasis from breast cancer</td>\n",
       "            <td>WP4627</td>\n",
       "            <td>Mus musculus</td>\n",
       "            <td>29 Nov 2019</td>\n",
       "            <td>None</td>\n",
       "            <td>lipid metabolic pathway, classic metabolic pathway</td>\n",
       "            <td>breast cancer, disease of cellular proliferation</td>\n",
       "            <td>None</td>\n",
       "        </tr>\n",
       "        <tr>\n",
       "            <td>10q11.21q11.23 copy number variation syndrome</td>\n",
       "            <td>WP5352</td>\n",
       "            <td>Homo sapiens</td>\n",
       "            <td>04 Aug 2023</td>\n",
       "            <td>Diseases, RareDiseases</td>\n",
       "            <td>disease pathway</td>\n",
       "            <td>None</td>\n",
       "            <td>None</td>\n",
       "        </tr>\n",
       "        <tr>\n",
       "            <td>10q22q23 copy number variation</td>\n",
       "            <td>WP5402</td>\n",
       "            <td>Homo sapiens</td>\n",
       "            <td>18 Aug 2023</td>\n",
       "            <td>None</td>\n",
       "            <td>disease pathway</td>\n",
       "            <td>chromosomal duplication syndrome, chromosomal deletion syndrome, genetic disease</td>\n",
       "            <td>None</td>\n",
       "        </tr>\n",
       "        <tr>\n",
       "            <td>11p11.2 copy number variation syndrome</td>\n",
       "            <td>WP5348</td>\n",
       "            <td>Homo sapiens</td>\n",
       "            <td>05 Aug 2023</td>\n",
       "            <td>Diseases, RareDiseases</td>\n",
       "            <td>disease pathway</td>\n",
       "            <td>None</td>\n",
       "            <td>None</td>\n",
       "        </tr>\n",
       "        <tr>\n",
       "            <td>13q12 or CRYL1 copy number variation</td>\n",
       "            <td>WP5405</td>\n",
       "            <td>Homo sapiens</td>\n",
       "            <td>07 Aug 2023</td>\n",
       "            <td>None</td>\n",
       "            <td>disease pathway</td>\n",
       "            <td>chromosomal duplication syndrome, chromosomal deletion syndrome, genetic disease</td>\n",
       "            <td>None</td>\n",
       "        </tr>\n",
       "        <tr>\n",
       "            <td>13q12.12 copy number variation</td>\n",
       "            <td>WP5406</td>\n",
       "            <td>Homo sapiens</td>\n",
       "            <td>08 Aug 2023</td>\n",
       "            <td>None</td>\n",
       "            <td>disease pathway</td>\n",
       "            <td>chromosomal deletion syndrome, chromosomal duplication syndrome, genetic disease</td>\n",
       "            <td>None</td>\n",
       "        </tr>\n",
       "        <tr>\n",
       "            <td>15q11.2 copy number variation syndrome</td>\n",
       "            <td>WP4940</td>\n",
       "            <td>Homo sapiens</td>\n",
       "            <td>18 Jan 2023</td>\n",
       "            <td>RareDiseases</td>\n",
       "            <td>disease pathway</td>\n",
       "            <td>genetic disease, chromosome 15q11.2 deletion syndrome</td>\n",
       "            <td>None</td>\n",
       "        </tr>\n",
       "        <tr>\n",
       "            <td>15q11q13 copy number variation</td>\n",
       "            <td>WP5407</td>\n",
       "            <td>Homo sapiens</td>\n",
       "            <td>10 Aug 2023</td>\n",
       "            <td>None</td>\n",
       "            <td>disease pathway</td>\n",
       "            <td>chromosomal deletion syndrome, chromosomal duplication syndrome, genetic disease</td>\n",
       "            <td>None</td>\n",
       "        </tr>\n",
       "        <tr>\n",
       "            <td>15q13.3 copy number variation syndrome</td>\n",
       "            <td>WP4942</td>\n",
       "            <td>Homo sapiens</td>\n",
       "            <td>12 Mar 2021</td>\n",
       "            <td>RareDiseases</td>\n",
       "            <td>disease pathway</td>\n",
       "            <td>chromosome 15q13.3 microdeletion syndrome, genetic disease</td>\n",
       "            <td>None</td>\n",
       "        </tr>\n",
       "    </tbody>\n",
       "</table>"
      ],
      "text/plain": [
       "[('Hfe effect on hepcidin production', 'WP3673', 'Mus musculus', '13 Dec 2016', None, 'regulatory pathway, iron homeostasis pathway', None, None),\n",
       " ('Lipids measured in liver metastasis from breast cancer', 'WP4627', 'Mus musculus', '29 Nov 2019', None, 'lipid metabolic pathway, classic metabolic pathway', 'breast cancer, disease of cellular proliferation', None),\n",
       " ('10q11.21q11.23 copy number variation syndrome', 'WP5352', 'Homo sapiens', '04 Aug 2023', 'Diseases, RareDiseases', 'disease pathway', None, None),\n",
       " ('10q22q23 copy number variation', 'WP5402', 'Homo sapiens', '18 Aug 2023', None, 'disease pathway', 'chromosomal duplication syndrome, chromosomal deletion syndrome, genetic disease', None),\n",
       " ('11p11.2 copy number variation syndrome', 'WP5348', 'Homo sapiens', '05 Aug 2023', 'Diseases, RareDiseases', 'disease pathway', None, None),\n",
       " ('13q12 or CRYL1 copy number variation', 'WP5405', 'Homo sapiens', '07 Aug 2023', None, 'disease pathway', 'chromosomal duplication syndrome, chromosomal deletion syndrome, genetic disease', None),\n",
       " ('13q12.12 copy number variation', 'WP5406', 'Homo sapiens', '08 Aug 2023', None, 'disease pathway', 'chromosomal deletion syndrome, chromosomal duplication syndrome, genetic disease', None),\n",
       " ('15q11.2 copy number variation syndrome', 'WP4940', 'Homo sapiens', '18 Jan 2023', 'RareDiseases', 'disease pathway', 'genetic disease, chromosome 15q11.2 deletion syndrome', None),\n",
       " ('15q11q13 copy number variation', 'WP5407', 'Homo sapiens', '10 Aug 2023', None, 'disease pathway', 'chromosomal deletion syndrome, chromosomal duplication syndrome, genetic disease', None),\n",
       " ('15q13.3 copy number variation syndrome', 'WP4942', 'Homo sapiens', '12 Mar 2021', 'RareDiseases', 'disease pathway', 'chromosome 15q13.3 microdeletion syndrome, genetic disease', None)]"
      ]
     },
     "execution_count": 12,
     "metadata": {},
     "output_type": "execute_result"
    }
   ],
   "source": [
    "%%sql\n",
    "Select * from pathways limit 10"
   ]
  },
  {
   "cell_type": "markdown",
   "metadata": {},
   "source": [
    "Inspecting distinct terms."
   ]
  },
  {
   "cell_type": "code",
   "execution_count": 13,
   "metadata": {},
   "outputs": [
    {
     "name": "stdout",
     "output_type": "stream",
     "text": [
      " * sqlite:///data/pathways.db\n",
      "Done.\n"
     ]
    },
    {
     "data": {
      "text/html": [
       "<table>\n",
       "    <thead>\n",
       "        <tr>\n",
       "            <th>Disease Terms</th>\n",
       "        </tr>\n",
       "    </thead>\n",
       "    <tbody>\n",
       "        <tr>\n",
       "            <td>None</td>\n",
       "        </tr>\n",
       "        <tr>\n",
       "            <td>breast cancer, disease of cellular proliferation</td>\n",
       "        </tr>\n",
       "        <tr>\n",
       "            <td>chromosomal duplication syndrome, chromosomal deletion syndrome, genetic disease</td>\n",
       "        </tr>\n",
       "        <tr>\n",
       "            <td>chromosomal deletion syndrome, chromosomal duplication syndrome, genetic disease</td>\n",
       "        </tr>\n",
       "        <tr>\n",
       "            <td>genetic disease, chromosome 15q11.2 deletion syndrome</td>\n",
       "        </tr>\n",
       "        <tr>\n",
       "            <td>chromosome 15q13.3 microdeletion syndrome, genetic disease</td>\n",
       "        </tr>\n",
       "        <tr>\n",
       "            <td>chromosome 15q25 deletion syndrome, genetic disease</td>\n",
       "        </tr>\n",
       "        <tr>\n",
       "            <td>chromosome 16p11.2 deletion syndrome, genetic disease</td>\n",
       "        </tr>\n",
       "        <tr>\n",
       "            <td>genetic disease, chromosome 16p11.2 deletion syndrome</td>\n",
       "        </tr>\n",
       "        <tr>\n",
       "            <td>Miller-Dieker lissencephaly syndrome, genetic disease</td>\n",
       "        </tr>\n",
       "    </tbody>\n",
       "</table>"
      ],
      "text/plain": [
       "[(None,),\n",
       " ('breast cancer, disease of cellular proliferation',),\n",
       " ('chromosomal duplication syndrome, chromosomal deletion syndrome, genetic disease',),\n",
       " ('chromosomal deletion syndrome, chromosomal duplication syndrome, genetic disease',),\n",
       " ('genetic disease, chromosome 15q11.2 deletion syndrome',),\n",
       " ('chromosome 15q13.3 microdeletion syndrome, genetic disease',),\n",
       " ('chromosome 15q25 deletion syndrome, genetic disease',),\n",
       " ('chromosome 16p11.2 deletion syndrome, genetic disease',),\n",
       " ('genetic disease, chromosome 16p11.2 deletion syndrome',),\n",
       " ('Miller-Dieker lissencephaly syndrome, genetic disease',)]"
      ]
     },
     "execution_count": 13,
     "metadata": {},
     "output_type": "execute_result"
    }
   ],
   "source": [
    "%%sql\n",
    "Select distinct \"Disease Terms\" from pathways limit 10"
   ]
  },
  {
   "cell_type": "markdown",
   "metadata": {},
   "source": [
    "Filtering based on the organism and disease term of interest"
   ]
  },
  {
   "cell_type": "code",
   "execution_count": 14,
   "metadata": {},
   "outputs": [
    {
     "name": "stdout",
     "output_type": "stream",
     "text": [
      " * sqlite:///data/pathways.db\n",
      "Done.\n"
     ]
    },
    {
     "data": {
      "text/html": [
       "<table>\n",
       "    <thead>\n",
       "        <tr>\n",
       "            <th>Pathway Title</th>\n",
       "            <th>ID</th>\n",
       "            <th>Organism</th>\n",
       "            <th>Disease Terms</th>\n",
       "        </tr>\n",
       "    </thead>\n",
       "    <tbody>\n",
       "        <tr>\n",
       "            <td>Folate-alcohol and cancer pathway hypotheses</td>\n",
       "            <td>WP1589</td>\n",
       "            <td>Homo sapiens</td>\n",
       "            <td>oral cavity cancer, disease of cellular proliferation</td>\n",
       "        </tr>\n",
       "        <tr>\n",
       "            <td>Fluoropyrimidine activity</td>\n",
       "            <td>WP1601</td>\n",
       "            <td>Homo sapiens</td>\n",
       "            <td>cancer, disease of cellular proliferation</td>\n",
       "        </tr>\n",
       "        <tr>\n",
       "            <td>TP53 network</td>\n",
       "            <td>WP1742</td>\n",
       "            <td>Homo sapiens</td>\n",
       "            <td>cancer, disease of cellular proliferation</td>\n",
       "        </tr>\n",
       "        <tr>\n",
       "            <td>Integrated cancer pathway</td>\n",
       "            <td>WP1971</td>\n",
       "            <td>Homo sapiens</td>\n",
       "            <td>cancer, disease of cellular proliferation</td>\n",
       "        </tr>\n",
       "        <tr>\n",
       "            <td>Glioblastoma signaling pathways</td>\n",
       "            <td>WP2261</td>\n",
       "            <td>Homo sapiens</td>\n",
       "            <td>brain cancer, glioblastoma, cancer, central nervous system disease, disease of cellular proliferation</td>\n",
       "        </tr>\n",
       "        <tr>\n",
       "            <td>Androgen receptor network in prostate cancer</td>\n",
       "            <td>WP2263</td>\n",
       "            <td>Homo sapiens</td>\n",
       "            <td>prostate cancer, disease of cellular proliferation</td>\n",
       "        </tr>\n",
       "        <tr>\n",
       "            <td>Irinotecan pathway</td>\n",
       "            <td>WP229</td>\n",
       "            <td>Homo sapiens</td>\n",
       "            <td>neutropenia, diarrhea, cancer, , disease of cellular proliferation</td>\n",
       "        </tr>\n",
       "        <tr>\n",
       "            <td>Deregulation of Rab and Rab effector genes in bladder cancer</td>\n",
       "            <td>WP2291</td>\n",
       "            <td>Homo sapiens</td>\n",
       "            <td>urinary bladder cancer, disease of cellular proliferation</td>\n",
       "        </tr>\n",
       "        <tr>\n",
       "            <td>Gastric cancer network 1</td>\n",
       "            <td>WP2361</td>\n",
       "            <td>Homo sapiens</td>\n",
       "            <td>gastric adenocarcinoma, stomach cancer, disease of cellular proliferation</td>\n",
       "        </tr>\n",
       "        <tr>\n",
       "            <td>Gastric cancer network 2</td>\n",
       "            <td>WP2363</td>\n",
       "            <td>Homo sapiens</td>\n",
       "            <td>stomach cancer, gastric adenocarcinoma, cancer, disease of cellular proliferation</td>\n",
       "        </tr>\n",
       "    </tbody>\n",
       "</table>"
      ],
      "text/plain": [
       "[('Folate-alcohol and cancer pathway hypotheses', 'WP1589', 'Homo sapiens', 'oral cavity cancer, disease of cellular proliferation'),\n",
       " ('Fluoropyrimidine activity', 'WP1601', 'Homo sapiens', 'cancer, disease of cellular proliferation'),\n",
       " ('TP53 network', 'WP1742', 'Homo sapiens', 'cancer, disease of cellular proliferation'),\n",
       " ('Integrated cancer pathway', 'WP1971', 'Homo sapiens', 'cancer, disease of cellular proliferation'),\n",
       " ('Glioblastoma signaling pathways', 'WP2261', 'Homo sapiens', 'brain cancer, glioblastoma, cancer, central nervous system disease, disease of cellular proliferation'),\n",
       " ('Androgen receptor network in prostate cancer', 'WP2263', 'Homo sapiens', 'prostate cancer, disease of cellular proliferation'),\n",
       " ('Irinotecan pathway', 'WP229', 'Homo sapiens', 'neutropenia, diarrhea, cancer, , disease of cellular proliferation'),\n",
       " ('Deregulation of Rab and Rab effector genes in bladder cancer', 'WP2291', 'Homo sapiens', 'urinary bladder cancer, disease of cellular proliferation'),\n",
       " ('Gastric cancer network 1', 'WP2361', 'Homo sapiens', 'gastric adenocarcinoma, stomach cancer, disease of cellular proliferation'),\n",
       " ('Gastric cancer network 2', 'WP2363', 'Homo sapiens', 'stomach cancer, gastric adenocarcinoma, cancer, disease of cellular proliferation')]"
      ]
     },
     "execution_count": 14,
     "metadata": {},
     "output_type": "execute_result"
    }
   ],
   "source": [
    "%%sql\n",
    "Select \"Pathway Title\", ID, Organism, \"Disease Terms\" from pathways where \n",
    "(Organism is \"Homo sapiens\" and \"Disease Terms\" like \"%cancer%\") order by ID limit 10"
   ]
  },
  {
   "cell_type": "markdown",
   "metadata": {},
   "source": [
    "If the ID number of the graph is known"
   ]
  },
  {
   "cell_type": "code",
   "execution_count": 15,
   "metadata": {},
   "outputs": [
    {
     "name": "stdout",
     "output_type": "stream",
     "text": [
      " * sqlite:///data/pathways.db\n",
      "Done.\n"
     ]
    },
    {
     "data": {
      "text/html": [
       "<table>\n",
       "    <thead>\n",
       "        <tr>\n",
       "            <th>Pathway Title</th>\n",
       "            <th>ID</th>\n",
       "            <th>Organism</th>\n",
       "            <th>Last Edited</th>\n",
       "            <th>Communities</th>\n",
       "            <th>Pathway Terms</th>\n",
       "            <th>Disease Terms</th>\n",
       "            <th>Cell Types</th>\n",
       "        </tr>\n",
       "    </thead>\n",
       "    <tbody>\n",
       "        <tr>\n",
       "            <td>10q11.21q11.23 copy number variation syndrome</td>\n",
       "            <td>WP5352</td>\n",
       "            <td>Homo sapiens</td>\n",
       "            <td>04 Aug 2023</td>\n",
       "            <td>Diseases, RareDiseases</td>\n",
       "            <td>disease pathway</td>\n",
       "            <td>None</td>\n",
       "            <td>None</td>\n",
       "        </tr>\n",
       "    </tbody>\n",
       "</table>"
      ],
      "text/plain": [
       "[('10q11.21q11.23 copy number variation syndrome', 'WP5352', 'Homo sapiens', '04 Aug 2023', 'Diseases, RareDiseases', 'disease pathway', None, None)]"
      ]
     },
     "execution_count": 15,
     "metadata": {},
     "output_type": "execute_result"
    }
   ],
   "source": [
    "%%sql\n",
    "SELECT * from pathways where ID IS \"WP5352\""
   ]
  },
  {
   "cell_type": "markdown",
   "metadata": {},
   "source": [
    "Ordering by the last edit date"
   ]
  },
  {
   "cell_type": "code",
   "execution_count": 16,
   "metadata": {},
   "outputs": [
    {
     "name": "stdout",
     "output_type": "stream",
     "text": [
      " * sqlite:///data/pathways.db\n",
      "Done.\n"
     ]
    },
    {
     "data": {
      "text/html": [
       "<table>\n",
       "    <thead>\n",
       "        <tr>\n",
       "            <th>Pathway Title</th>\n",
       "            <th>ID</th>\n",
       "            <th>Organism</th>\n",
       "            <th>Last Edited</th>\n",
       "            <th>Communities</th>\n",
       "            <th>Pathway Terms</th>\n",
       "            <th>Disease Terms</th>\n",
       "            <th>Cell Types</th>\n",
       "        </tr>\n",
       "    </thead>\n",
       "    <tbody>\n",
       "        <tr>\n",
       "            <td>Biosynthesis and regeneration of tetrahydrobiopterin and catabolism of phenylalanine</td>\n",
       "            <td>WP4156</td>\n",
       "            <td>Homo sapiens</td>\n",
       "            <td>01 Apr 2023</td>\n",
       "            <td>IEM, RareDiseases</td>\n",
       "            <td>tetrahydrobiopterin metabolic pathway, dopa responsive dystonia pathway, phenylketonuria pathway, phenylalanine degradation pathway, Segawa syndrome pathway, classic metabolic pathway, disease pathway</td>\n",
       "            <td>sepiapterin reductase deficiency, BH4-deficient hyperphenylalaninemia B, BH4-deficient hyperphenylalaninemia A, megaloblastic anemia, dystonia 5, phenylketonuria, aromatic L-amino acid decarboxylase deficiency, genetic disease,</td>\n",
       "            <td>None</td>\n",
       "        </tr>\n",
       "        <tr>\n",
       "            <td>Disorders of folate metabolism and transport</td>\n",
       "            <td>WP4259</td>\n",
       "            <td>Homo sapiens</td>\n",
       "            <td>01 Apr 2023</td>\n",
       "            <td>Diseases, IEM, RareDiseases</td>\n",
       "            <td>disease pathway, folate metabolic pathway, methylenetetrahydrofolate reductase deficiency pathway, regulatory pathway</td>\n",
       "            <td>glutamate formiminotransferase deficiency, megaloblastic anemia, , vitamin metabolic disorder, vitamin B12 deficiency, cerebral folate receptor alpha deficiency, genetic disease</td>\n",
       "            <td>central nervous system neuron, animal cell</td>\n",
       "        </tr>\n",
       "        <tr>\n",
       "            <td>GABA metabolism (aka GHB)</td>\n",
       "            <td>WP4157</td>\n",
       "            <td>Homo sapiens</td>\n",
       "            <td>01 Apr 2023</td>\n",
       "            <td>IEM, RareDiseases</td>\n",
       "            <td>xenobiotic metabolic pathway, neurotransmitter metabolic pathway, gamma-aminobutyric acid metabolic pathway, classic metabolic pathway</td>\n",
       "            <td>succinic semialdehyde dehydrogenase deficiency, GABA aminotransferase deficiency, gamma-amino butyric acid metabolism disorder, genetic disease</td>\n",
       "            <td>None</td>\n",
       "        </tr>\n",
       "        <tr>\n",
       "            <td>Metabolic pathway of LDL, HDL and TG, including diseases</td>\n",
       "            <td>WP4522</td>\n",
       "            <td>Homo sapiens</td>\n",
       "            <td>01 Apr 2023</td>\n",
       "            <td>Diseases, IEM, RareDiseases</td>\n",
       "            <td>triacylglycerol metabolic pathway, disease pathway, familial combined hyperlipidemia pathway, lipoprotein metabolic pathway, altered lipoprotein metabolic pathway, classic metabolic pathway</td>\n",
       "            <td>familial combined hyperlipidemia, autosomal recessive hypercholesterolemia, Tangier disease, hypobetalipoproteinemia, genetic disease</td>\n",
       "            <td>None</td>\n",
       "        </tr>\n",
       "        <tr>\n",
       "            <td>Pyrimidine metabolism and related diseases</td>\n",
       "            <td>WP4225</td>\n",
       "            <td>Homo sapiens</td>\n",
       "            <td>01 Apr 2023</td>\n",
       "            <td>IEM, RareDiseases</td>\n",
       "            <td>orotic aciduria 1 pathway, beta-ureidopropionase deficiency pathway, pyrimidine metabolic pathway, inborn error of purine-pyrimidine metabolism pathway, dihydropyrimidine dehydrogenase deficiency pathway, disease pathway, classic metabolic pathway</td>\n",
       "            <td>orotic aciduria, pyrimidine metabolic disorder, dihydropyrimidine dehydrogenase deficiency, genetic disease</td>\n",
       "            <td>None</td>\n",
       "        </tr>\n",
       "        <tr>\n",
       "            <td>Vitamin B6-dependent and responsive disorders</td>\n",
       "            <td>WP4228</td>\n",
       "            <td>Homo sapiens</td>\n",
       "            <td>01 Apr 2023</td>\n",
       "            <td>Diseases, IEM, RareDiseases</td>\n",
       "            <td>hypophosphatasia pathway, hyperprolinemia type II pathway, proline metabolic pathway, vitamin B6 metabolic pathway, lysine degradation pathway, disease pathway, classic metabolic pathway</td>\n",
       "            <td>hypophosphatasia, pyridoxine-dependent epilepsy, hyperprolinemia type 2, childhood hypophosphatasia, epilepsy, early-onset vitamin B6-dependent epilepsy, infantile hypophosphatasia, pyridoxamine 5&#x27;-phosphate oxidase deficiency, genetic disease, central nervous system disease</td>\n",
       "            <td>neural cell, animal cell</td>\n",
       "        </tr>\n",
       "        <tr>\n",
       "            <td>Peptide GPCRs</td>\n",
       "            <td>WP1338</td>\n",
       "            <td>Danio rerio</td>\n",
       "            <td>01 Aug 2016</td>\n",
       "            <td>None</td>\n",
       "            <td>G protein mediated signaling pathway, signaling pathway</td>\n",
       "            <td>None</td>\n",
       "            <td>None</td>\n",
       "        </tr>\n",
       "        <tr>\n",
       "            <td>p53 signaling</td>\n",
       "            <td>WP2902</td>\n",
       "            <td>Mus musculus</td>\n",
       "            <td>01 Aug 2016</td>\n",
       "            <td>None</td>\n",
       "            <td>p53 signaling pathway, regulatory pathway</td>\n",
       "            <td>None</td>\n",
       "            <td>None</td>\n",
       "        </tr>\n",
       "        <tr>\n",
       "            <td>Actin cytoskeleton regulation</td>\n",
       "            <td>WP1062</td>\n",
       "            <td>Bos taurus</td>\n",
       "            <td>01 Feb 2022</td>\n",
       "            <td>None</td>\n",
       "            <td>regulatory pathway, cell adhesion signaling pathway, signaling pathway</td>\n",
       "            <td>None</td>\n",
       "            <td>None</td>\n",
       "        </tr>\n",
       "        <tr>\n",
       "            <td>FAS pathway and stress induction of HSP regulation</td>\n",
       "            <td>WP1019</td>\n",
       "            <td>Bos taurus</td>\n",
       "            <td>01 Feb 2022</td>\n",
       "            <td>None</td>\n",
       "            <td>stress response pathway, FasL mediated signaling pathway, regulatory pathway</td>\n",
       "            <td>None</td>\n",
       "            <td>None</td>\n",
       "        </tr>\n",
       "    </tbody>\n",
       "</table>"
      ],
      "text/plain": [
       "[('Biosynthesis and regeneration of tetrahydrobiopterin and catabolism of phenylalanine', 'WP4156', 'Homo sapiens', '01 Apr 2023', 'IEM, RareDiseases', 'tetrahydrobiopterin metabolic pathway, dopa responsive dystonia pathway, phenylketonuria pathway, phenylalanine degradation pathway, Segawa syndrome pathway, classic metabolic pathway, disease pathway', 'sepiapterin reductase deficiency, BH4-deficient hyperphenylalaninemia B, BH4-deficient hyperphenylalaninemia A, megaloblastic anemia, dystonia 5, phenylketonuria, aromatic L-amino acid decarboxylase deficiency, genetic disease,', None),\n",
       " ('Disorders of folate metabolism and transport', 'WP4259', 'Homo sapiens', '01 Apr 2023', 'Diseases, IEM, RareDiseases', 'disease pathway, folate metabolic pathway, methylenetetrahydrofolate reductase deficiency pathway, regulatory pathway', 'glutamate formiminotransferase deficiency, megaloblastic anemia, , vitamin metabolic disorder, vitamin B12 deficiency, cerebral folate receptor alpha deficiency, genetic disease', 'central nervous system neuron, animal cell'),\n",
       " ('GABA metabolism (aka GHB)', 'WP4157', 'Homo sapiens', '01 Apr 2023', 'IEM, RareDiseases', 'xenobiotic metabolic pathway, neurotransmitter metabolic pathway, gamma-aminobutyric acid metabolic pathway, classic metabolic pathway', 'succinic semialdehyde dehydrogenase deficiency, GABA aminotransferase deficiency, gamma-amino butyric acid metabolism disorder, genetic disease', None),\n",
       " ('Metabolic pathway of LDL, HDL and TG, including diseases', 'WP4522', 'Homo sapiens', '01 Apr 2023', 'Diseases, IEM, RareDiseases', 'triacylglycerol metabolic pathway, disease pathway, familial combined hyperlipidemia pathway, lipoprotein metabolic pathway, altered lipoprotein metabolic pathway, classic metabolic pathway', 'familial combined hyperlipidemia, autosomal recessive hypercholesterolemia, Tangier disease, hypobetalipoproteinemia, genetic disease', None),\n",
       " ('Pyrimidine metabolism and related diseases', 'WP4225', 'Homo sapiens', '01 Apr 2023', 'IEM, RareDiseases', 'orotic aciduria 1 pathway, beta-ureidopropionase deficiency pathway, pyrimidine metabolic pathway, inborn error of purine-pyrimidine metabolism pathway, dihydropyrimidine dehydrogenase deficiency pathway, disease pathway, classic metabolic pathway', 'orotic aciduria, pyrimidine metabolic disorder, dihydropyrimidine dehydrogenase deficiency, genetic disease', None),\n",
       " ('Vitamin B6-dependent and responsive disorders', 'WP4228', 'Homo sapiens', '01 Apr 2023', 'Diseases, IEM, RareDiseases', 'hypophosphatasia pathway, hyperprolinemia type II pathway, proline metabolic pathway, vitamin B6 metabolic pathway, lysine degradation pathway, disease pathway, classic metabolic pathway', \"hypophosphatasia, pyridoxine-dependent epilepsy, hyperprolinemia type 2, childhood hypophosphatasia, epilepsy, early-onset vitamin B6-dependent epilepsy, infantile hypophosphatasia, pyridoxamine 5'-phosphate oxidase deficiency, genetic disease, central nervous system disease\", 'neural cell, animal cell'),\n",
       " ('Peptide GPCRs', 'WP1338', 'Danio rerio', '01 Aug 2016', None, 'G protein mediated signaling pathway, signaling pathway', None, None),\n",
       " ('p53 signaling', 'WP2902', 'Mus musculus', '01 Aug 2016', None, 'p53 signaling pathway, regulatory pathway', None, None),\n",
       " ('Actin cytoskeleton regulation', 'WP1062', 'Bos taurus', '01 Feb 2022', None, 'regulatory pathway, cell adhesion signaling pathway, signaling pathway', None, None),\n",
       " ('FAS pathway and stress induction of HSP regulation', 'WP1019', 'Bos taurus', '01 Feb 2022', None, 'stress response pathway, FasL mediated signaling pathway, regulatory pathway', None, None)]"
      ]
     },
     "execution_count": 16,
     "metadata": {},
     "output_type": "execute_result"
    }
   ],
   "source": [
    "%%sql\n",
    "Select * from pathways order by \"Last Edited\" limit 10"
   ]
  },
  {
   "cell_type": "code",
   "execution_count": 17,
   "metadata": {},
   "outputs": [],
   "source": [
    "%sql sqlite:///data/homo_sapiens.db"
   ]
  },
  {
   "cell_type": "markdown",
   "metadata": {},
   "source": [
    "Because the .xml file was not following the conventions of xml, the informations is incomplete. Here the filtering should have been based on Version (not shown in the table) rather than Comment column."
   ]
  },
  {
   "cell_type": "code",
   "execution_count": 18,
   "metadata": {},
   "outputs": [
    {
     "name": "stdout",
     "output_type": "stream",
     "text": [
      " * sqlite:///data/homo_sapiens.db\n",
      "   sqlite:///data/pathways.db\n",
      "Done.\n"
     ]
    },
    {
     "data": {
      "text/html": [
       "<table>\n",
       "    <thead>\n",
       "        <tr>\n",
       "            <th>Source</th>\n",
       "            <th>Comment</th>\n",
       "            <th>BoardWidth</th>\n",
       "            <th>BoardHeight</th>\n",
       "            <th>TextLabel</th>\n",
       "            <th>Type</th>\n",
       "            <th>GraphId</th>\n",
       "            <th>GroupRef</th>\n",
       "            <th>BiopaxRef</th>\n",
       "            <th>GroupId</th>\n",
       "            <th>Style</th>\n",
       "            <th>CenterX</th>\n",
       "            <th>CenterY</th>\n",
       "            <th>GraphRef</th>\n",
       "            <th>Href</th>\n",
       "        </tr>\n",
       "    </thead>\n",
       "    <tbody>\n",
       "        <tr>\n",
       "            <td>WikiPathways-description</td>\n",
       "            <td>10q11.21q11.23 copy number variation (CNV) syndrome is a rare genetic disorder caused by a deletion or duplication of genetic material on chromosome 10. The exact genetic location chr10:49,390,199-51,058,796 (GRCh37) was taken from Kirov et al. 2014 and literature cited there. </td>\n",
       "            <td>None</td>\n",
       "            <td>None</td>\n",
       "            <td>None</td>\n",
       "            <td>None</td>\n",
       "            <td>None</td>\n",
       "            <td>None</td>\n",
       "            <td>None</td>\n",
       "            <td>None</td>\n",
       "            <td>None</td>\n",
       "            <td>None</td>\n",
       "            <td>None</td>\n",
       "            <td>None</td>\n",
       "            <td>None</td>\n",
       "        </tr>\n",
       "    </tbody>\n",
       "</table>"
      ],
      "text/plain": [
       "[('WikiPathways-description', '10q11.21q11.23 copy number variation (CNV) syndrome is a rare genetic disorder caused by a deletion or duplication of genetic material on chromosome 10. The exact genetic location chr10:49,390,199-51,058,796 (GRCh37) was taken from Kirov et al. 2014 and literature cited there. ', None, None, None, None, None, None, None, None, None, None, None, None, None)]"
      ]
     },
     "execution_count": 18,
     "metadata": {},
     "output_type": "execute_result"
    }
   ],
   "source": [
    "%%sql\n",
    "SELECT * from homo_sapiens where Comment LIKE \"10q11.21q11.23%\" LIMIT 10"
   ]
  },
  {
   "cell_type": "markdown",
   "metadata": {},
   "source": [
    "## How the data should have look"
   ]
  },
  {
   "cell_type": "markdown",
   "metadata": {},
   "source": [
    "![How the table should have look 1](./images/correct_table_1.png)"
   ]
  },
  {
   "cell_type": "markdown",
   "metadata": {},
   "source": [
    "![How the table should have look 2](./images/correct_table_2.png)"
   ]
  },
  {
   "cell_type": "markdown",
   "metadata": {},
   "source": []
  }
 ],
 "metadata": {
  "kernelspec": {
   "display_name": ".venv",
   "language": "python",
   "name": "python3"
  },
  "language_info": {
   "codemirror_mode": {
    "name": "ipython",
    "version": 3
   },
   "file_extension": ".py",
   "mimetype": "text/x-python",
   "name": "python",
   "nbconvert_exporter": "python",
   "pygments_lexer": "ipython3",
   "version": "3.11.6"
  }
 },
 "nbformat": 4,
 "nbformat_minor": 2
}
