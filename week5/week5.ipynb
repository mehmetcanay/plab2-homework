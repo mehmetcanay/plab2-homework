{
 "cells": [
  {
   "cell_type": "markdown",
   "metadata": {},
   "source": [
    "# Homework week5"
   ]
  },
  {
   "cell_type": "markdown",
   "metadata": {},
   "source": [
    "**author:** Mehmet Can Ay <br>\n",
    "2023-11-23"
   ]
  },
  {
   "cell_type": "code",
   "execution_count": 1,
   "metadata": {},
   "outputs": [],
   "source": [
    "## uncomment this if needed\n",
    "#!pip install -r requirements.txt"
   ]
  },
  {
   "cell_type": "markdown",
   "metadata": {},
   "source": [
    "## Import"
   ]
  },
  {
   "cell_type": "code",
   "execution_count": 2,
   "metadata": {},
   "outputs": [],
   "source": [
    "import os\n",
    "import pandas as pd\n",
    "import numpy as np\n",
    "from sqlalchemy import create_engine"
   ]
  },
  {
   "cell_type": "markdown",
   "metadata": {},
   "source": [
    "## Getting the Data"
   ]
  },
  {
   "cell_type": "markdown",
   "metadata": {},
   "source": [
    "### Pathway Table"
   ]
  },
  {
   "cell_type": "code",
   "execution_count": 3,
   "metadata": {},
   "outputs": [],
   "source": [
    "list_of_table: list[pd.DataFrame] = pd.read_html(\"https://www.wikipathways.org/browse/table.html\")\n",
    "pathways: pd.DataFrame = list_of_table[0]\n",
    "pathways.rename(columns={0: \"Pathway Title\", \n",
    "                      1: \"ID\", \n",
    "                      2: \"Organism\", \n",
    "                      3: \"Last Edited\", \n",
    "                      4: \"Communities\", \n",
    "                      5: \"Pathway Terms\", \n",
    "                      6: \"Disease Terms\", \n",
    "                      7: \"Cell Types\"}, inplace=True)"
   ]
  },
  {
   "cell_type": "markdown",
   "metadata": {},
   "source": [
    "### Pathway Components for Homo Sapiens"
   ]
  },
  {
   "cell_type": "markdown",
   "metadata": {},
   "source": [
    "Homo sapiens database is downloaded from WikiPathways's [Downloads](https://data.wikipathways.org/current/gpml/) section. Unfortunately the file does not follow conventions of .xml file and therefore, the reading of the file is troublesome."
   ]
  },
  {
   "cell_type": "code",
   "execution_count": 4,
   "metadata": {},
   "outputs": [],
   "source": [
    "# An empty list to hold dataframes\n",
    "dfs: list[pd.DataFrame] = []\n",
    "\n",
    "# A path to database folder\n",
    "xml_folder_path: str = \"./data/wikipathways/\"\n",
    "\n",
    "# Extracting the names of .XML files\n",
    "xml_files: list[str] = [file for file in os.listdir(xml_folder_path)]\n",
    "\n",
    "# Creating a dataframe with each .XML file and appending them to the list of dfs\n",
    "for xml in xml_files:\n",
    "    path: str = os.path.join(xml_folder_path, xml)\n",
    "    df: pd.DataFrame = pd.read_xml(path, namespaces={\"doc\": \"http://pathvisio.org/GPML/2013a\"})\n",
    "    dfs.append(df)\n",
    "\n",
    "# Concatanating all dfs in the list\n",
    "homo_sapiens: pd.DataFrame = pd.concat(dfs)\n",
    "\n",
    "# Resetting the index of the database dataframe\n",
    "homo_sapiens.reset_index(drop=True, inplace=True)\n",
    "\n",
    "# Replacing artifacts with NaN.\n",
    "homo_sapiens.replace({\"\\n      \": np.nan}, inplace=True)"
   ]
  },
  {
   "cell_type": "markdown",
   "metadata": {},
   "source": [
    "## Exporting as .csv file"
   ]
  },
  {
   "cell_type": "code",
   "execution_count": 5,
   "metadata": {},
   "outputs": [],
   "source": [
    "# Saving the pathways as .csv file\n",
    "pathways.to_csv(\"./data/pathways.csv\", index=False)"
   ]
  },
  {
   "cell_type": "code",
   "execution_count": 6,
   "metadata": {},
   "outputs": [],
   "source": [
    "# Selecting the first 10000 rows\n",
    "homo_sapiens = homo_sapiens.iloc[0: 10000]\n",
    "\n",
    "# Saving the component as .csv file\n",
    "homo_sapiens.to_csv(\"./data/homo_sapiens.csv\", index=False)\n",
    "\n",
    "del pathways\n",
    "del homo_sapiens"
   ]
  },
  {
   "cell_type": "markdown",
   "metadata": {},
   "source": [
    "## Loading the Data with Pandas"
   ]
  },
  {
   "cell_type": "code",
   "execution_count": 7,
   "metadata": {},
   "outputs": [],
   "source": [
    "# Reading the sampled database\n",
    "pathways: pd.DataFrame = pd.read_csv(\"./data/pathways.csv\")"
   ]
  },
  {
   "cell_type": "code",
   "execution_count": 8,
   "metadata": {},
   "outputs": [],
   "source": [
    "# Reading the sampled database\n",
    "homo_sapiens: pd.DataFrame = pd.read_csv(\"./data/homo_sapiens.csv\")\n",
    "\n",
    "# For simplyfing the dataframe, all columns that contains only NaN values dropped.\n",
    "homo_sapiens.dropna(axis=1, how=\"all\", inplace=True)\n",
    "\n",
    "# Removing '\\n' from the entire DataFrame\n",
    "homo_sapiens = homo_sapiens.map(lambda x: x.replace('\\n', '') if isinstance(x, str) else x)"
   ]
  },
  {
   "cell_type": "markdown",
   "metadata": {},
   "source": [
    "## Saving as SQL Database"
   ]
  },
  {
   "cell_type": "code",
   "execution_count": 9,
   "metadata": {},
   "outputs": [
    {
     "data": {
      "text/plain": [
       "1922"
      ]
     },
     "execution_count": 9,
     "metadata": {},
     "output_type": "execute_result"
    }
   ],
   "source": [
    "# Creating an SQL database\n",
    "engine = create_engine(\"sqlite:///data/pathways.db\", echo=False)\n",
    "\n",
    "# Writing to the creted SQL database\n",
    "pathways.to_sql(\"pathways\", con=engine, index=False)"
   ]
  },
  {
   "cell_type": "code",
   "execution_count": 10,
   "metadata": {},
   "outputs": [],
   "source": [
    "# Creating an SQL database\n",
    "engine = create_engine(\"sqlite:///data/homo_sapiens.db\", echo=False)\n",
    "\n",
    "# Writing to the creted SQL database\n",
    "homo_sapiens.to_sql(\"homo_sapiens\", con=engine, index=False)\n",
    "\n",
    "del pathways\n",
    "del homo_sapiens"
   ]
  },
  {
   "cell_type": "markdown",
   "metadata": {},
   "source": [
    "## Opening the Database with SQL"
   ]
  },
  {
   "cell_type": "code",
   "execution_count": 11,
   "metadata": {},
   "outputs": [],
   "source": [
    "%%capture\n",
    "%load_ext sql\n",
    "%sql sqlite:///data/pathways.db"
   ]
  },
  {
   "cell_type": "code",
   "execution_count": 12,
   "metadata": {},
   "outputs": [
    {
     "name": "stdout",
     "output_type": "stream",
     "text": [
      " * sqlite:///data/pathways.db\n",
      "Done.\n"
     ]
    },
    {
     "data": {
      "text/html": [
       "<table>\n",
       "    <thead>\n",
       "        <tr>\n",
       "            <th>Pathway Title</th>\n",
       "            <th>ID</th>\n",
       "            <th>Organism</th>\n",
       "            <th>Last Edited</th>\n",
       "            <th>Communities</th>\n",
       "            <th>Pathway Terms</th>\n",
       "            <th>Disease Terms</th>\n",
       "            <th>Cell Types</th>\n",
       "        </tr>\n",
       "    </thead>\n",
       "    <tbody>\n",
       "        <tr>\n",
       "            <td>10q11.21q11.23 copy number variation syndrome</td>\n",
       "            <td>WP5352</td>\n",
       "            <td>Homo sapiens</td>\n",
       "            <td>04 Aug 2023</td>\n",
       "            <td>Diseases, RareDiseases</td>\n",
       "            <td>disease pathway</td>\n",
       "            <td>None</td>\n",
       "            <td>None</td>\n",
       "        </tr>\n",
       "        <tr>\n",
       "            <td>10q22q23 copy number variation</td>\n",
       "            <td>WP5402</td>\n",
       "            <td>Homo sapiens</td>\n",
       "            <td>18 Aug 2023</td>\n",
       "            <td>None</td>\n",
       "            <td>disease pathway</td>\n",
       "            <td>chromosomal duplication syndrome, chromosomal deletion syndrome, genetic disease</td>\n",
       "            <td>None</td>\n",
       "        </tr>\n",
       "        <tr>\n",
       "            <td>11p11.2 copy number variation syndrome</td>\n",
       "            <td>WP5348</td>\n",
       "            <td>Homo sapiens</td>\n",
       "            <td>05 Aug 2023</td>\n",
       "            <td>Diseases, RareDiseases</td>\n",
       "            <td>disease pathway</td>\n",
       "            <td>None</td>\n",
       "            <td>None</td>\n",
       "        </tr>\n",
       "        <tr>\n",
       "            <td>13q12 or CRYL1 copy number variation</td>\n",
       "            <td>WP5405</td>\n",
       "            <td>Homo sapiens</td>\n",
       "            <td>07 Aug 2023</td>\n",
       "            <td>None</td>\n",
       "            <td>disease pathway</td>\n",
       "            <td>chromosomal duplication syndrome, chromosomal deletion syndrome, genetic disease</td>\n",
       "            <td>None</td>\n",
       "        </tr>\n",
       "        <tr>\n",
       "            <td>13q12.12 copy number variation</td>\n",
       "            <td>WP5406</td>\n",
       "            <td>Homo sapiens</td>\n",
       "            <td>08 Aug 2023</td>\n",
       "            <td>None</td>\n",
       "            <td>disease pathway</td>\n",
       "            <td>chromosomal deletion syndrome, chromosomal duplication syndrome, genetic disease</td>\n",
       "            <td>None</td>\n",
       "        </tr>\n",
       "        <tr>\n",
       "            <td>15q11.2 copy number variation syndrome</td>\n",
       "            <td>WP4940</td>\n",
       "            <td>Homo sapiens</td>\n",
       "            <td>18 Jan 2023</td>\n",
       "            <td>RareDiseases</td>\n",
       "            <td>disease pathway</td>\n",
       "            <td>genetic disease, chromosome 15q11.2 deletion syndrome</td>\n",
       "            <td>None</td>\n",
       "        </tr>\n",
       "        <tr>\n",
       "            <td>15q11q13 copy number variation</td>\n",
       "            <td>WP5407</td>\n",
       "            <td>Homo sapiens</td>\n",
       "            <td>10 Aug 2023</td>\n",
       "            <td>None</td>\n",
       "            <td>disease pathway</td>\n",
       "            <td>chromosomal deletion syndrome, chromosomal duplication syndrome, genetic disease</td>\n",
       "            <td>None</td>\n",
       "        </tr>\n",
       "        <tr>\n",
       "            <td>15q13.3 copy number variation syndrome</td>\n",
       "            <td>WP4942</td>\n",
       "            <td>Homo sapiens</td>\n",
       "            <td>12 Mar 2021</td>\n",
       "            <td>RareDiseases</td>\n",
       "            <td>disease pathway</td>\n",
       "            <td>chromosome 15q13.3 microdeletion syndrome, genetic disease</td>\n",
       "            <td>None</td>\n",
       "        </tr>\n",
       "        <tr>\n",
       "            <td>15q25 copy number variation</td>\n",
       "            <td>WP5408</td>\n",
       "            <td>Homo sapiens</td>\n",
       "            <td>15 Aug 2023</td>\n",
       "            <td>None</td>\n",
       "            <td>disease pathway</td>\n",
       "            <td>chromosome 15q25 deletion syndrome, genetic disease</td>\n",
       "            <td>None</td>\n",
       "        </tr>\n",
       "        <tr>\n",
       "            <td>16p11.2 distal deletion syndrome</td>\n",
       "            <td>WP4950</td>\n",
       "            <td>Homo sapiens</td>\n",
       "            <td>18 Jan 2023</td>\n",
       "            <td>RareDiseases</td>\n",
       "            <td>disease pathway</td>\n",
       "            <td>chromosome 16p11.2 deletion syndrome, genetic disease</td>\n",
       "            <td>None</td>\n",
       "        </tr>\n",
       "    </tbody>\n",
       "</table>"
      ],
      "text/plain": [
       "[('10q11.21q11.23 copy number variation syndrome', 'WP5352', 'Homo sapiens', '04 Aug 2023', 'Diseases, RareDiseases', 'disease pathway', None, None),\n",
       " ('10q22q23 copy number variation', 'WP5402', 'Homo sapiens', '18 Aug 2023', None, 'disease pathway', 'chromosomal duplication syndrome, chromosomal deletion syndrome, genetic disease', None),\n",
       " ('11p11.2 copy number variation syndrome', 'WP5348', 'Homo sapiens', '05 Aug 2023', 'Diseases, RareDiseases', 'disease pathway', None, None),\n",
       " ('13q12 or CRYL1 copy number variation', 'WP5405', 'Homo sapiens', '07 Aug 2023', None, 'disease pathway', 'chromosomal duplication syndrome, chromosomal deletion syndrome, genetic disease', None),\n",
       " ('13q12.12 copy number variation', 'WP5406', 'Homo sapiens', '08 Aug 2023', None, 'disease pathway', 'chromosomal deletion syndrome, chromosomal duplication syndrome, genetic disease', None),\n",
       " ('15q11.2 copy number variation syndrome', 'WP4940', 'Homo sapiens', '18 Jan 2023', 'RareDiseases', 'disease pathway', 'genetic disease, chromosome 15q11.2 deletion syndrome', None),\n",
       " ('15q11q13 copy number variation', 'WP5407', 'Homo sapiens', '10 Aug 2023', None, 'disease pathway', 'chromosomal deletion syndrome, chromosomal duplication syndrome, genetic disease', None),\n",
       " ('15q13.3 copy number variation syndrome', 'WP4942', 'Homo sapiens', '12 Mar 2021', 'RareDiseases', 'disease pathway', 'chromosome 15q13.3 microdeletion syndrome, genetic disease', None),\n",
       " ('15q25 copy number variation', 'WP5408', 'Homo sapiens', '15 Aug 2023', None, 'disease pathway', 'chromosome 15q25 deletion syndrome, genetic disease', None),\n",
       " ('16p11.2 distal deletion syndrome', 'WP4950', 'Homo sapiens', '18 Jan 2023', 'RareDiseases', 'disease pathway', 'chromosome 16p11.2 deletion syndrome, genetic disease', None)]"
      ]
     },
     "execution_count": 12,
     "metadata": {},
     "output_type": "execute_result"
    }
   ],
   "source": [
    "%%sql\n",
    "SELECT * from pathways where Organism IS 'Homo sapiens' LIMIT 10"
   ]
  },
  {
   "cell_type": "code",
   "execution_count": 13,
   "metadata": {},
   "outputs": [],
   "source": [
    "%sql sqlite:///data/homo_sapiens.db"
   ]
  },
  {
   "cell_type": "markdown",
   "metadata": {},
   "source": [
    "Because the .xml file was not following the conventions of xml, the informations is incomplete. Here the filtering should have been based on Version (not shown in the table) rather than Comment column."
   ]
  },
  {
   "cell_type": "code",
   "execution_count": 14,
   "metadata": {},
   "outputs": [
    {
     "name": "stdout",
     "output_type": "stream",
     "text": [
      " * sqlite:///data/homo_sapiens.db\n",
      "   sqlite:///data/pathways.db\n",
      "Done.\n"
     ]
    },
    {
     "data": {
      "text/html": [
       "<table>\n",
       "    <thead>\n",
       "        <tr>\n",
       "            <th>Source</th>\n",
       "            <th>Comment</th>\n",
       "            <th>BoardWidth</th>\n",
       "            <th>BoardHeight</th>\n",
       "            <th>TextLabel</th>\n",
       "            <th>Type</th>\n",
       "            <th>GraphId</th>\n",
       "            <th>GroupRef</th>\n",
       "            <th>BiopaxRef</th>\n",
       "            <th>GroupId</th>\n",
       "            <th>Style</th>\n",
       "            <th>CenterX</th>\n",
       "            <th>CenterY</th>\n",
       "            <th>GraphRef</th>\n",
       "            <th>Href</th>\n",
       "        </tr>\n",
       "    </thead>\n",
       "    <tbody>\n",
       "        <tr>\n",
       "            <td>WikiPathways-description</td>\n",
       "            <td>10q11.21q11.23 copy number variation (CNV) syndrome is a rare genetic disorder caused by a deletion or duplication of genetic material on chromosome 10. The exact genetic location chr10:49,390,199-51,058,796 (GRCh37) was taken from Kirov et al. 2014 and literature cited there. </td>\n",
       "            <td>None</td>\n",
       "            <td>None</td>\n",
       "            <td>None</td>\n",
       "            <td>None</td>\n",
       "            <td>None</td>\n",
       "            <td>None</td>\n",
       "            <td>None</td>\n",
       "            <td>None</td>\n",
       "            <td>None</td>\n",
       "            <td>None</td>\n",
       "            <td>None</td>\n",
       "            <td>None</td>\n",
       "            <td>None</td>\n",
       "        </tr>\n",
       "    </tbody>\n",
       "</table>"
      ],
      "text/plain": [
       "[('WikiPathways-description', '10q11.21q11.23 copy number variation (CNV) syndrome is a rare genetic disorder caused by a deletion or duplication of genetic material on chromosome 10. The exact genetic location chr10:49,390,199-51,058,796 (GRCh37) was taken from Kirov et al. 2014 and literature cited there. ', None, None, None, None, None, None, None, None, None, None, None, None, None)]"
      ]
     },
     "execution_count": 14,
     "metadata": {},
     "output_type": "execute_result"
    }
   ],
   "source": [
    "%%sql\n",
    "SELECT * from homo_sapiens where Comment LIKE \"10q11.21q11.23%\" LIMIT 10"
   ]
  },
  {
   "cell_type": "markdown",
   "metadata": {},
   "source": [
    "## How the data should have look"
   ]
  },
  {
   "cell_type": "markdown",
   "metadata": {},
   "source": [
    "![How the table should have look 1](./images/correct_table_1.png)"
   ]
  },
  {
   "cell_type": "markdown",
   "metadata": {},
   "source": [
    "![How the table should have look 2](./images/correct_table_2.png)"
   ]
  },
  {
   "cell_type": "markdown",
   "metadata": {},
   "source": []
  }
 ],
 "metadata": {
  "kernelspec": {
   "display_name": ".venv",
   "language": "python",
   "name": "python3"
  },
  "language_info": {
   "codemirror_mode": {
    "name": "ipython",
    "version": 3
   },
   "file_extension": ".py",
   "mimetype": "text/x-python",
   "name": "python",
   "nbconvert_exporter": "python",
   "pygments_lexer": "ipython3",
   "version": "3.11.6"
  }
 },
 "nbformat": 4,
 "nbformat_minor": 2
}
