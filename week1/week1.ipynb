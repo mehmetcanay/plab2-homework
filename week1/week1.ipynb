{
 "cells": [
  {
   "cell_type": "markdown",
   "metadata": {
    "slideshow": {
     "slide_type": "slide"
    }
   },
   "source": [
    "# Beautiful is better than ugly"
   ]
  },
  {
   "cell_type": "markdown",
   "metadata": {
    "slideshow": {
     "slide_type": "slide"
    }
   },
   "source": [
    "# Meaning\n",
    "## Emphasizes the importance of writing code that is aesthetically pleasing and easy to read."
   ]
  },
  {
   "cell_type": "markdown",
   "metadata": {
    "slideshow": {
     "slide_type": "slide"
    }
   },
   "source": [
    "## Example 1\n",
    "```python\n",
    "from math import sin\n",
    "\n",
    "def sinusoid(A, ω, ϕ):\n",
    "    return lambda t: A * sin(ω * t + ϕ)\n",
    "```"
   ]
  },
  {
   "cell_type": "markdown",
   "metadata": {
    "slideshow": {
     "slide_type": "slide"
    }
   },
   "source": [
    "## Example 2\n",
    "### Bad Example\n",
    "```python\n",
    "x = 10\n",
    "y = 20\n",
    "z = x + y if x < y else x - y\n",
    "print(z)\n",
    "```\n",
    "\n",
    "### Good Example\n",
    "```python\n",
    "x = 10\n",
    "y = 20\n",
    "if x < y:\n",
    "    z = x + y\n",
    "else:\n",
    "    z = x - y\n",
    "print(z)\n",
    "```\n"
   ]
  },
  {
   "cell_type": "markdown",
   "metadata": {
    "slideshow": {
     "slide_type": "slide"
    }
   },
   "source": [
    "## Example 3\n",
    "### Bad Example\n",
    "```python\n",
    "def LongCamelCaseFuncNameDoSomeStuff(arg1, arg2, arg3, arg4, arg5):\n",
    "    if (arg1 | arg2):\n",
    "        return 1;\n",
    "    elif (arg4 > arg5):\n",
    "        return 2;\n",
    "    else:\n",
    "        return arg3;\n",
    "    localVar = map(lambda x,y,z,a,b,c: x+y+z+a+b+c, [1], [2], [3], [4], [5], [6]);\n",
    "    return localVar\n",
    "```"
   ]
  },
  {
   "cell_type": "markdown",
   "metadata": {
    "slideshow": {
     "slide_type": "slide"
    }
   },
   "source": [
    "## Example 3\n",
    "### Good Example\n",
    "```python\n",
    "def define_time(length, velocity):\n",
    "    if velocity:\n",
    "        return length/velocity\n",
    "    else:\n",
    "        return 0\n",
    "        \n",
    "        \n",
    "def calculate_time_for_batch(lengths_array, velocities_array):\n",
    "    time_array = map(\n",
    "        define_time,\n",
    "        lengths_array,\n",
    "        velocities_array\n",
    "    )\n",
    "    if sum(time_array):\n",
    "        return time_array\n",
    "    else:\n",
    "        return []\n",
    "```"
   ]
  },
  {
   "cell_type": "markdown",
   "metadata": {
    "slideshow": {
     "slide_type": "slide"
    }
   },
   "source": [
    "# Sparse is better than dense"
   ]
  },
  {
   "cell_type": "markdown",
   "metadata": {
    "slideshow": {
     "slide_type": "slide"
    }
   },
   "source": [
    "# Meaning\n",
    "## Code should be spaced out and well-organized, allowing room to breathe, rather than densely packed with information."
   ]
  },
  {
   "cell_type": "markdown",
   "metadata": {
    "slideshow": {
     "slide_type": "slide"
    }
   },
   "source": [
    "## Example 1\n",
    "### Bad Example\n",
    "```python\n",
    "def print_sum_of_positive_int_numbers_in_mixed_list(array):\n",
    "    numbers = [value for value in array if isinstance(value, int)]\n",
    "    positive = [value for value in numbers if value > 0]\n",
    "    sum_of_values = sum(positive)\n",
    "    print(\"Sum of positive numbers is %s . Thank you.\" % sum_of_values)\n",
    "```"
   ]
  },
  {
   "cell_type": "markdown",
   "metadata": {
    "slideshow": {
     "slide_type": "slide"
    }
   },
   "source": [
    "## Example 1\n",
    "### Good Example\n",
    "```python\n",
    "def get_integers_from_list(array):\n",
    "    return [value for value in array if isinstance(value, int)]\n",
    "\n",
    "\n",
    "def get_greater_than_zero_integers_from_list(array):\n",
    "    return [value for value in array if value > 0]\n",
    "\n",
    "\n",
    "def get_sum_of_array_values(array):\n",
    "    return sum(array)\n",
    "\n",
    "\n",
    "def print_information(value):\n",
    "    print(\"Sum of positive numbers is %s . Thank you.\" % value)\n",
    "\n",
    "\n",
    "def print_sum_of_positive_int_numbers_in_mixed_list(array):\n",
    "    numbers = get_integers_from_list(array)\n",
    "    positive = get_greater_than_zero_integers_from_list(numbers)\n",
    "    sum_of_values = get_sum_of_array_values(positive)\n",
    "    print_information(sum_of_values)\n",
    "```"
   ]
  },
  {
   "cell_type": "markdown",
   "metadata": {
    "slideshow": {
     "slide_type": "slide"
    }
   },
   "source": [
    "## Example 2\n",
    "### Bad Example\n",
    "```python\n",
    "Numbers = [1, 2, 3, 4, 5, 6, 7, 8, 9, 10]\n",
    "evenSquares = [number ** 2 for number in Numbers if number % 2 == 0]\n",
    "```\n",
    "\n",
    "### Good Example\n",
    "```python\n",
    "Numbers = [1, 2, 3, 4, 5, 6, 7, 8, 9, 10]\n",
    "evenSquares = []\n",
    "for number in Numbers:\n",
    "    if number % 2 == 0:\n",
    "        square = number ** 2\n",
    "        evenSquares.append(square)\n",
    "```"
   ]
  },
  {
   "cell_type": "markdown",
   "metadata": {
    "slideshow": {
     "slide_type": "slide"
    }
   },
   "source": [
    "## Example 3\n",
    "```python\n",
    "def dense(A, f, ϕ):\n",
    "    return lambda t: A * sin(2 * π * f * t + ϕ)\n",
    "\n",
    "def sparse(A, f, ϕ):\n",
    "    ω = 2 * π * f\n",
    "    return lambda t: A * sin(ω * t + ϕ)\n",
    "```"
   ]
  },
  {
   "cell_type": "markdown",
   "metadata": {
    "slideshow": {
     "slide_type": "slide"
    }
   },
   "source": [
    "## Thank you for listening to me!"
   ]
  }
 ],
 "metadata": {
  "language_info": {
   "name": "python"
  }
 },
 "nbformat": 4,
 "nbformat_minor": 2
}
