{
 "cells": [
  {
   "cell_type": "code",
   "execution_count": 1,
   "metadata": {},
   "outputs": [],
   "source": [
    "## Install the packages if needed\n",
    "# %pip install -r requirements.txt"
   ]
  },
  {
   "cell_type": "code",
   "execution_count": 2,
   "metadata": {},
   "outputs": [
    {
     "name": "stdout",
     "output_type": "stream",
     "text": [
      "2023-12-21 13:48:24.425994\n"
     ]
    }
   ],
   "source": [
    "import pymysql\n",
    "import pandas as pd\n",
    "from sqlalchemy import create_engine\n",
    "import neo4j\n",
    "import numpy as np\n",
    "import json\n",
    "from tqdm import tqdm\n",
    "import datetime\n",
    "\n",
    "print(datetime.datetime.now())"
   ]
  },
  {
   "cell_type": "markdown",
   "metadata": {},
   "source": [
    "# Test the containers from podman-compose\n",
    "\n",
    "Once you have installed \n",
    "1. [podman](https://podman.io/docs/installation)\n",
    "2. [podman Desktop](https://podman-desktop.io/)\n",
    "3. podman-compose (`pip install podman-compose`)\n",
    "\n",
    "Change the directory in the terminal to the folder where you have copied the [docker-compose.yaml](docker-compose.yaml).\n",
    "\n",
    "`podman-compose up -d`\n",
    "\n",
    "check if you see the container in Desktop and test with this Jupyter notebook if all the container works as expected.\n",
    "\n",
    "`podman-compose down`"
   ]
  },
  {
   "cell_type": "markdown",
   "metadata": {},
   "source": [
    "# MySQL"
   ]
  },
  {
   "cell_type": "code",
   "execution_count": 3,
   "metadata": {},
   "outputs": [],
   "source": [
    "MYSQL_USER = \"root\"\n",
    "MYSQL_HOST = \"127.0.0.1\"\n",
    "MYSQL_PORT = 3307\n",
    "MYSQL_ROOT_PASSWORD = \"root_passwd\"\n",
    "MYSQL_DATABASE = \"plab2_db\""
   ]
  },
  {
   "cell_type": "markdown",
   "metadata": {},
   "source": [
    "create database cursor"
   ]
  },
  {
   "cell_type": "code",
   "execution_count": 4,
   "metadata": {},
   "outputs": [],
   "source": [
    "conn = pymysql.connect(\n",
    "    user=MYSQL_USER,\n",
    "    password=MYSQL_ROOT_PASSWORD,\n",
    "    host=MYSQL_HOST,\n",
    "    port=MYSQL_PORT,\n",
    "    database=MYSQL_DATABASE,\n",
    "    autocommit=True,\n",
    ")\n",
    "cursor = conn.cursor()"
   ]
  },
  {
   "cell_type": "markdown",
   "metadata": {},
   "source": [
    "create SQL Alchemy engine"
   ]
  },
  {
   "cell_type": "code",
   "execution_count": 5,
   "metadata": {},
   "outputs": [],
   "source": [
    "connection_url = f\"mysql+pymysql://{MYSQL_USER}:{MYSQL_ROOT_PASSWORD}@{MYSQL_HOST}:{MYSQL_PORT}/{MYSQL_DATABASE}\"\n",
    "engine = create_engine(connection_url)"
   ]
  },
  {
   "cell_type": "code",
   "execution_count": 6,
   "metadata": {},
   "outputs": [],
   "source": [
    "def drop_table_if_exists(table: str):\n",
    "    \"\"\"Drops a table in MySQL database.\n",
    "\n",
    "    Args:\n",
    "        table (str): Name of table.\n",
    "    \"\"\"\n",
    "    cursor.execute(f\"DROP TABLE IF EXISTS `{table}`\")"
   ]
  },
  {
   "cell_type": "markdown",
   "metadata": {},
   "source": [
    "## Create tables\n",
    "\n",
    "[MySQL reference](https://dev.mysql.com/doc/refman/8.0/en/create-table.html)"
   ]
  },
  {
   "cell_type": "code",
   "execution_count": 7,
   "metadata": {},
   "outputs": [],
   "source": [
    "drop_table_if_exists(table=\"interaction\")\n",
    "drop_table_if_exists(table=\"protein\")"
   ]
  },
  {
   "cell_type": "code",
   "execution_count": 8,
   "metadata": {},
   "outputs": [],
   "source": [
    "sql = \"\"\"CREATE TABLE IF NOT EXISTS `protein` (\n",
    "  `id` bigint,\n",
    "  `accession` text,\n",
    "  `name` text,\n",
    "  `taxid` bigint,\n",
    "  PRIMARY KEY `ix_protein_id` (`id`)\n",
    ")\"\"\"\n",
    "cursor.execute(sql)\n",
    "conn.commit()"
   ]
  },
  {
   "cell_type": "code",
   "execution_count": 9,
   "metadata": {},
   "outputs": [
    {
     "data": {
      "text/plain": [
       "0"
      ]
     },
     "execution_count": 9,
     "metadata": {},
     "output_type": "execute_result"
    }
   ],
   "source": [
    "sql = \"\"\"CREATE TABLE IF NOT EXISTS `interaction` (\n",
    "  `id` bigint,\n",
    "  `confidence_value` double DEFAULT NULL,\n",
    "  `detection_method` VARCHAR(255),\n",
    "  `interaction_type` VARCHAR(255),\n",
    "  `pmid` double DEFAULT NULL,\n",
    "  `protein_a_id` bigint,\n",
    "  `protein_b_id` bigint,\n",
    "  PRIMARY KEY `ix_interaction_id` (`id`),\n",
    "  FOREIGN KEY (`protein_a_id`) REFERENCES protein(`id`),\n",
    "  FOREIGN KEY (`protein_b_id`) REFERENCES protein(`id`)\n",
    ")\"\"\"\n",
    "cursor.execute(sql)"
   ]
  },
  {
   "cell_type": "markdown",
   "metadata": {},
   "source": [
    "## Read the data from file and write into database"
   ]
  },
  {
   "cell_type": "markdown",
   "metadata": {},
   "source": [
    "### Proteins"
   ]
  },
  {
   "cell_type": "code",
   "execution_count": 10,
   "metadata": {},
   "outputs": [
    {
     "data": {
      "text/html": [
       "<div>\n",
       "<style scoped>\n",
       "    .dataframe tbody tr th:only-of-type {\n",
       "        vertical-align: middle;\n",
       "    }\n",
       "\n",
       "    .dataframe tbody tr th {\n",
       "        vertical-align: top;\n",
       "    }\n",
       "\n",
       "    .dataframe thead th {\n",
       "        text-align: right;\n",
       "    }\n",
       "</style>\n",
       "<table border=\"1\" class=\"dataframe\">\n",
       "  <thead>\n",
       "    <tr style=\"text-align: right;\">\n",
       "      <th></th>\n",
       "      <th>accession</th>\n",
       "      <th>name</th>\n",
       "      <th>taxid</th>\n",
       "    </tr>\n",
       "    <tr>\n",
       "      <th>id</th>\n",
       "      <th></th>\n",
       "      <th></th>\n",
       "      <th></th>\n",
       "    </tr>\n",
       "  </thead>\n",
       "  <tbody>\n",
       "    <tr>\n",
       "      <th>1</th>\n",
       "      <td>A0A0B4J2F0</td>\n",
       "      <td>Protein PIGBOS1</td>\n",
       "      <td>9606</td>\n",
       "    </tr>\n",
       "    <tr>\n",
       "      <th>2</th>\n",
       "      <td>A0A0H3JRU9</td>\n",
       "      <td>Pyruvate carboxylase</td>\n",
       "      <td>158878</td>\n",
       "    </tr>\n",
       "    <tr>\n",
       "      <th>3</th>\n",
       "      <td>A0A0H3K9R3</td>\n",
       "      <td>RuBisCO chaperone RbcX</td>\n",
       "      <td>269084</td>\n",
       "    </tr>\n",
       "    <tr>\n",
       "      <th>4</th>\n",
       "      <td>A0A0U1RRE5</td>\n",
       "      <td>Negative regulator of P-body association</td>\n",
       "      <td>9606</td>\n",
       "    </tr>\n",
       "    <tr>\n",
       "      <th>5</th>\n",
       "      <td>A0A1L8F5J9</td>\n",
       "      <td>Glutamate receptor ionotropic, NMDA 1</td>\n",
       "      <td>8355</td>\n",
       "    </tr>\n",
       "  </tbody>\n",
       "</table>\n",
       "</div>"
      ],
      "text/plain": [
       "     accession                                      name   taxid\n",
       "id                                                              \n",
       "1   A0A0B4J2F0                           Protein PIGBOS1    9606\n",
       "2   A0A0H3JRU9                      Pyruvate carboxylase  158878\n",
       "3   A0A0H3K9R3                    RuBisCO chaperone RbcX  269084\n",
       "4   A0A0U1RRE5  Negative regulator of P-body association    9606\n",
       "5   A0A1L8F5J9     Glutamate receptor ionotropic, NMDA 1    8355"
      ]
     },
     "execution_count": 10,
     "metadata": {},
     "output_type": "execute_result"
    }
   ],
   "source": [
    "df_protein: pd.DataFrame = pd.read_csv(\n",
    "    \"./data/protein.tsv.zip\",\n",
    "    sep=\"\\t\",\n",
    "    names=[\"id\", \"accession\", \"name\", \"taxid\"],\n",
    "    index_col=\"id\",\n",
    ")\n",
    "df_protein.head()"
   ]
  },
  {
   "cell_type": "code",
   "execution_count": 11,
   "metadata": {},
   "outputs": [
    {
     "data": {
      "text/plain": [
       "13438"
      ]
     },
     "execution_count": 11,
     "metadata": {},
     "output_type": "execute_result"
    }
   ],
   "source": [
    "df_protein.to_sql(name=\"protein\", con=engine, if_exists=\"append\")"
   ]
  },
  {
   "cell_type": "markdown",
   "metadata": {},
   "source": [
    "### Interactions"
   ]
  },
  {
   "cell_type": "code",
   "execution_count": 12,
   "metadata": {},
   "outputs": [
    {
     "data": {
      "text/html": [
       "<div>\n",
       "<style scoped>\n",
       "    .dataframe tbody tr th:only-of-type {\n",
       "        vertical-align: middle;\n",
       "    }\n",
       "\n",
       "    .dataframe tbody tr th {\n",
       "        vertical-align: top;\n",
       "    }\n",
       "\n",
       "    .dataframe thead th {\n",
       "        text-align: right;\n",
       "    }\n",
       "</style>\n",
       "<table border=\"1\" class=\"dataframe\">\n",
       "  <thead>\n",
       "    <tr style=\"text-align: right;\">\n",
       "      <th></th>\n",
       "      <th>confidence_value</th>\n",
       "      <th>detection_method</th>\n",
       "      <th>interaction_type</th>\n",
       "      <th>pmid</th>\n",
       "      <th>protein_a_id</th>\n",
       "      <th>protein_b_id</th>\n",
       "    </tr>\n",
       "    <tr>\n",
       "      <th>id</th>\n",
       "      <th></th>\n",
       "      <th></th>\n",
       "      <th></th>\n",
       "      <th></th>\n",
       "      <th></th>\n",
       "      <th></th>\n",
       "    </tr>\n",
       "  </thead>\n",
       "  <tbody>\n",
       "    <tr>\n",
       "      <th>1</th>\n",
       "      <td>0.63</td>\n",
       "      <td>anti tag coimmunoprecipitation</td>\n",
       "      <td>physical association</td>\n",
       "      <td>31653868.0</td>\n",
       "      <td>1</td>\n",
       "      <td>10919</td>\n",
       "    </tr>\n",
       "    <tr>\n",
       "      <th>2</th>\n",
       "      <td>0.86</td>\n",
       "      <td>3D electron microscopy</td>\n",
       "      <td>direct interaction</td>\n",
       "      <td>24882745.0</td>\n",
       "      <td>2</td>\n",
       "      <td>2</td>\n",
       "    </tr>\n",
       "    <tr>\n",
       "      <th>3</th>\n",
       "      <td>0.60</td>\n",
       "      <td>cross-linking study</td>\n",
       "      <td>direct interaction</td>\n",
       "      <td>21765418.0</td>\n",
       "      <td>3</td>\n",
       "      <td>1422</td>\n",
       "    </tr>\n",
       "    <tr>\n",
       "      <th>4</th>\n",
       "      <td>0.64</td>\n",
       "      <td>anti tag coimmunoprecipitation</td>\n",
       "      <td>association</td>\n",
       "      <td>27918561.0</td>\n",
       "      <td>4</td>\n",
       "      <td>8998</td>\n",
       "    </tr>\n",
       "    <tr>\n",
       "      <th>5</th>\n",
       "      <td>0.61</td>\n",
       "      <td>pull down</td>\n",
       "      <td>physical association</td>\n",
       "      <td>25008524.0</td>\n",
       "      <td>5</td>\n",
       "      <td>67</td>\n",
       "    </tr>\n",
       "  </tbody>\n",
       "</table>\n",
       "</div>"
      ],
      "text/plain": [
       "    confidence_value                detection_method      interaction_type  \\\n",
       "id                                                                           \n",
       "1               0.63  anti tag coimmunoprecipitation  physical association   \n",
       "2               0.86          3D electron microscopy    direct interaction   \n",
       "3               0.60             cross-linking study    direct interaction   \n",
       "4               0.64  anti tag coimmunoprecipitation           association   \n",
       "5               0.61                       pull down  physical association   \n",
       "\n",
       "          pmid  protein_a_id  protein_b_id  \n",
       "id                                          \n",
       "1   31653868.0             1         10919  \n",
       "2   24882745.0             2             2  \n",
       "3   21765418.0             3          1422  \n",
       "4   27918561.0             4          8998  \n",
       "5   25008524.0             5            67  "
      ]
     },
     "execution_count": 12,
     "metadata": {},
     "output_type": "execute_result"
    }
   ],
   "source": [
    "df_interaction: pd.DataFrame = pd.read_csv(\n",
    "    \"./data/interaction.tsv.zip\",\n",
    "    sep=\"\\t\",\n",
    "    names=[\n",
    "        \"id\",\n",
    "        \"confidence_value\",\n",
    "        \"detection_method\",\n",
    "        \"interaction_type\",\n",
    "        \"pmid\",\n",
    "        \"protein_a_id\",\n",
    "        \"protein_b_id\",\n",
    "    ],\n",
    "    index_col=\"id\",\n",
    ")\n",
    "df_interaction.head()"
   ]
  },
  {
   "cell_type": "code",
   "execution_count": 13,
   "metadata": {},
   "outputs": [
    {
     "data": {
      "text/plain": [
       "39999"
      ]
     },
     "execution_count": 13,
     "metadata": {},
     "output_type": "execute_result"
    }
   ],
   "source": [
    "df_interaction.to_sql(name=\"interaction\", con=engine, if_exists=\"append\")"
   ]
  },
  {
   "cell_type": "markdown",
   "metadata": {},
   "source": [
    "## Neo4j"
   ]
  },
  {
   "cell_type": "code",
   "execution_count": 14,
   "metadata": {},
   "outputs": [],
   "source": [
    "NEO_PASSWORD = \"neo4j_passwd\"\n",
    "NEO_URI = \"bolt://localhost:7687\"\n",
    "NEO_USER = \"neo4j\"\n",
    "NEO_DB = \"neo4j\""
   ]
  },
  {
   "cell_type": "code",
   "execution_count": 15,
   "metadata": {},
   "outputs": [],
   "source": [
    "def get_cypher_props(props: dict) -> str:\n",
    "    \"\"\"Convert dictionary to cypher compliant properties as string.\"\"\"\n",
    "    props_str: str = \"\"\n",
    "    props_array: list[str] = []\n",
    "    if props:\n",
    "        for k, v in props.items():\n",
    "            if (isinstance(v, (str, int, list)) and v) or (\n",
    "                isinstance(v, float) and not np.isnan(v)\n",
    "            ):\n",
    "                cypher_str: str = f\"`{k}`: \" + json.dumps(v)\n",
    "                props_array.append(cypher_str)\n",
    "        if props_array:\n",
    "            props_str = \"{\" + \", \".join(props_array) + \"}\"\n",
    "    return props_str"
   ]
  },
  {
   "cell_type": "code",
   "execution_count": 16,
   "metadata": {},
   "outputs": [],
   "source": [
    "neo_driver: neo4j.Driver = neo4j.GraphDatabase.driver(\n",
    "    uri=NEO_URI,\n",
    "    auth=(NEO_USER, NEO_PASSWORD),\n",
    "    database=NEO_DB,\n",
    ")\n",
    "neo_session: neo4j.Session = neo_driver.session()"
   ]
  },
  {
   "cell_type": "code",
   "execution_count": 17,
   "metadata": {},
   "outputs": [
    {
     "data": {
      "text/plain": [
       "<neo4j._sync.work.result.Result at 0x24867bf1810>"
      ]
     },
     "execution_count": 17,
     "metadata": {},
     "output_type": "execute_result"
    }
   ],
   "source": [
    "# delete all node and relationships\n",
    "neo_session.run(\"MATCH (n) DETACH DELETE n\")"
   ]
  },
  {
   "cell_type": "code",
   "execution_count": 18,
   "metadata": {},
   "outputs": [
    {
     "name": "stderr",
     "output_type": "stream",
     "text": [
      "100%|██████████| 13438/13438 [00:00<00:00, 13559.36it/s]\n"
     ]
    },
    {
     "data": {
      "text/plain": [
       "<neo4j._sync.work.result.Result at 0x24862dd74d0>"
      ]
     },
     "execution_count": 18,
     "metadata": {},
     "output_type": "execute_result"
    }
   ],
   "source": [
    "# add nodes\n",
    "cypher_nodes: list[str] = []\n",
    "df: pd.DataFrame = pd.read_sql_table(table_name=\"protein\", con=engine)\n",
    "for idx, props in tqdm(df.iterrows(), total=df.shape[0]):\n",
    "    cypher_props: str = get_cypher_props(props=dict(props))\n",
    "    cypher_nodes.append(\"(:Protein \" + cypher_props + \")\")\n",
    "\n",
    "neo_session.run(\"CREATE \" + \",\".join(cypher_nodes))"
   ]
  },
  {
   "cell_type": "code",
   "execution_count": 19,
   "metadata": {},
   "outputs": [
    {
     "name": "stderr",
     "output_type": "stream",
     "text": [
      "100%|██████████| 39999/39999 [12:50<00:00, 51.90it/s]\n"
     ]
    }
   ],
   "source": [
    "df: pd.DataFrame = pd.read_sql_table(table_name=\"interaction\", con=engine)\n",
    "for idx, props in tqdm(df.iterrows(), total=df.shape[0]):\n",
    "    cypher_props: str = get_cypher_props(props=dict(props))\n",
    "    cypher = f\"\"\"MATCH\n",
    "        (protein_a:Protein {{id: {props.protein_a_id}}}),\n",
    "        (protein_b:Protein {{id: {props.protein_b_id}}})\n",
    "        MERGE (protein_a)-[r:INTERACTS_WITH {cypher_props}]->(protein_b)\"\"\"\n",
    "    neo_session.run(cypher)"
   ]
  },
  {
   "cell_type": "markdown",
   "metadata": {},
   "source": [
    "After all this open http://localhost:7474 and log in with user: neo4j and password: neo4j_passwd."
   ]
  }
 ],
 "metadata": {
  "kernelspec": {
   "display_name": ".venv",
   "language": "python",
   "name": "python3"
  },
  "language_info": {
   "codemirror_mode": {
    "name": "ipython",
    "version": 3
   },
   "file_extension": ".py",
   "mimetype": "text/x-python",
   "name": "python",
   "nbconvert_exporter": "python",
   "pygments_lexer": "ipython3",
   "version": "3.11.7"
  }
 },
 "nbformat": 4,
 "nbformat_minor": 2
}
