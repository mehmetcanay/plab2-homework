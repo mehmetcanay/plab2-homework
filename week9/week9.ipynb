{
 "cells": [
  {
   "cell_type": "markdown",
   "metadata": {},
   "source": [
    "# Homework week9"
   ]
  },
  {
   "cell_type": "markdown",
   "metadata": {},
   "source": [
    "**author:** Mehmet Can Ay <br>\n",
    "2023-12-15"
   ]
  },
  {
   "cell_type": "code",
   "execution_count": 1,
   "metadata": {},
   "outputs": [],
   "source": [
    "## Install the packages if needed\n",
    "# !pip install -r requirements.txt"
   ]
  },
  {
   "cell_type": "markdown",
   "metadata": {},
   "source": [
    "## Import"
   ]
  },
  {
   "cell_type": "code",
   "execution_count": 2,
   "metadata": {},
   "outputs": [
    {
     "name": "stdout",
     "output_type": "stream",
     "text": [
      "2023-12-21 14:10:45.455550\n"
     ]
    }
   ],
   "source": [
    "import pymysql\n",
    "import pandas as pd\n",
    "from sqlalchemy import create_engine\n",
    "import neo4j\n",
    "import numpy as np\n",
    "import json\n",
    "from tqdm import tqdm\n",
    "import datetime\n",
    "\n",
    "print(datetime.datetime.now())"
   ]
  },
  {
   "cell_type": "markdown",
   "metadata": {},
   "source": [
    "## Create a Student Interaction DataFrame"
   ]
  },
  {
   "cell_type": "code",
   "execution_count": 3,
   "metadata": {},
   "outputs": [],
   "source": [
    "# Read the student data\n",
    "df_student: pd.DataFrame = pd.read_csv(\n",
    "    filepath_or_buffer=\"./data/students.tsv\", \n",
    "    sep=\"\\t\",\n",
    "    index_col=\"id\"\n",
    ")"
   ]
  },
  {
   "cell_type": "code",
   "execution_count": 4,
   "metadata": {},
   "outputs": [],
   "source": [
    "# Create an empty dataframe with column names\n",
    "df_student_interaction = pd.DataFrame(\n",
    "    columns=[\"interaction_type\", \"student_a_id\", \"student_b_id\"]\n",
    ")"
   ]
  },
  {
   "cell_type": "code",
   "execution_count": 5,
   "metadata": {},
   "outputs": [],
   "source": [
    "# Create an interaction between all students\n",
    "for i in df_student.index:\n",
    "    for j in df_student.index:\n",
    "\n",
    "        if i == j:\n",
    "            continue\n",
    "        \n",
    "        df_student_interaction.loc[len(df_student_interaction.index)] = [\"IN_SAME_LAB\", i, j]"
   ]
  },
  {
   "cell_type": "code",
   "execution_count": 6,
   "metadata": {},
   "outputs": [],
   "source": [
    "# Change the index according to SQL conventions\n",
    "df_student_interaction.index += 1\n",
    "df_student_interaction.index.rename(name=\"id\", inplace=True)"
   ]
  },
  {
   "cell_type": "code",
   "execution_count": 7,
   "metadata": {},
   "outputs": [],
   "source": [
    "# Save the dataframe as tsv\n",
    "df_student_interaction.to_csv(\n",
    "    path_or_buf=\"./data/student_interaction.tsv\", \n",
    "    sep=\"\\t\"\n",
    ")"
   ]
  },
  {
   "cell_type": "markdown",
   "metadata": {},
   "source": [
    "## Create a phpMyAdmin For students.tsv Data"
   ]
  },
  {
   "cell_type": "markdown",
   "metadata": {},
   "source": [
    "### MySQL"
   ]
  },
  {
   "cell_type": "code",
   "execution_count": 8,
   "metadata": {},
   "outputs": [],
   "source": [
    "MYSQL_USER = \"root\"\n",
    "MYSQL_HOST = \"127.0.0.1\"\n",
    "MYSQL_PORT = 3307\n",
    "MYSQL_ROOT_PASSWORD = \"root_passwd\"\n",
    "MYSQL_DATABASE = \"plab2_db\""
   ]
  },
  {
   "cell_type": "markdown",
   "metadata": {},
   "source": [
    "Create a database cursor"
   ]
  },
  {
   "cell_type": "code",
   "execution_count": 9,
   "metadata": {},
   "outputs": [],
   "source": [
    "conn = pymysql.connect(\n",
    "    user=MYSQL_USER,\n",
    "    password=MYSQL_ROOT_PASSWORD,\n",
    "    host=MYSQL_HOST,\n",
    "    port=MYSQL_PORT,\n",
    "    database=MYSQL_DATABASE,\n",
    "    autocommit=True,\n",
    ")\n",
    "cursor = conn.cursor()"
   ]
  },
  {
   "cell_type": "markdown",
   "metadata": {},
   "source": [
    "Create an SQL Alchemy engine"
   ]
  },
  {
   "cell_type": "code",
   "execution_count": 10,
   "metadata": {},
   "outputs": [],
   "source": [
    "connection_url = f\"mysql+pymysql://{MYSQL_USER}:{MYSQL_ROOT_PASSWORD}@{MYSQL_HOST}:{MYSQL_PORT}/{MYSQL_DATABASE}\"\n",
    "engine = create_engine(connection_url)"
   ]
  },
  {
   "cell_type": "code",
   "execution_count": 11,
   "metadata": {},
   "outputs": [],
   "source": [
    "def drop_table_if_exists(table: str):\n",
    "    \"\"\"Drops a table in MySQL database.\n",
    "\n",
    "    Args:\n",
    "        table (str): Name of table.\n",
    "    \"\"\"\n",
    "    cursor.execute(f\"DROP TABLE IF EXISTS `{table}`\")"
   ]
  },
  {
   "cell_type": "markdown",
   "metadata": {},
   "source": [
    "#### Create Tables"
   ]
  },
  {
   "cell_type": "code",
   "execution_count": 12,
   "metadata": {},
   "outputs": [],
   "source": [
    "drop_table_if_exists(table=\"student_interaction\")\n",
    "drop_table_if_exists(table=\"student\")"
   ]
  },
  {
   "cell_type": "code",
   "execution_count": 13,
   "metadata": {},
   "outputs": [],
   "source": [
    "sql = \"\"\"CREATE TABLE IF NOT EXISTS `student` (\n",
    "  `id` bigint,\n",
    "  `first_name` text,\n",
    "  `last_name` text,\n",
    "  `gitlab_name` text,\n",
    "  `gitlab_path` text,\n",
    "  PRIMARY KEY `ix_student_id` (`id`)\n",
    ")\"\"\"\n",
    "cursor.execute(sql)\n",
    "conn.commit()"
   ]
  },
  {
   "cell_type": "code",
   "execution_count": 14,
   "metadata": {},
   "outputs": [
    {
     "data": {
      "text/plain": [
       "0"
      ]
     },
     "execution_count": 14,
     "metadata": {},
     "output_type": "execute_result"
    }
   ],
   "source": [
    "sql = \"\"\"CREATE TABLE IF NOT EXISTS `student_interaction` (\n",
    "  `id` bigint,\n",
    "  `interaction_type` VARCHAR(255),\n",
    "  `student_a_id` bigint,\n",
    "  `student_b_id` bigint,\n",
    "  PRIMARY KEY `ix_student_interaction_id` (`id`),\n",
    "  FOREIGN KEY (`student_a_id`) REFERENCES student(`id`),\n",
    "  FOREIGN KEY (`student_b_id`) REFERENCES student(`id`)\n",
    ")\"\"\"\n",
    "cursor.execute(sql)"
   ]
  },
  {
   "cell_type": "markdown",
   "metadata": {},
   "source": [
    "#### Read the data from file and write into database"
   ]
  },
  {
   "cell_type": "markdown",
   "metadata": {},
   "source": [
    "##### Student"
   ]
  },
  {
   "cell_type": "code",
   "execution_count": 15,
   "metadata": {},
   "outputs": [
    {
     "data": {
      "text/html": [
       "<div>\n",
       "<style scoped>\n",
       "    .dataframe tbody tr th:only-of-type {\n",
       "        vertical-align: middle;\n",
       "    }\n",
       "\n",
       "    .dataframe tbody tr th {\n",
       "        vertical-align: top;\n",
       "    }\n",
       "\n",
       "    .dataframe thead th {\n",
       "        text-align: right;\n",
       "    }\n",
       "</style>\n",
       "<table border=\"1\" class=\"dataframe\">\n",
       "  <thead>\n",
       "    <tr style=\"text-align: right;\">\n",
       "      <th></th>\n",
       "      <th>first_name</th>\n",
       "      <th>last_name</th>\n",
       "      <th>gitlab_name</th>\n",
       "      <th>gitlab_path</th>\n",
       "    </tr>\n",
       "    <tr>\n",
       "      <th>id</th>\n",
       "      <th></th>\n",
       "      <th></th>\n",
       "      <th></th>\n",
       "      <th></th>\n",
       "    </tr>\n",
       "  </thead>\n",
       "  <tbody>\n",
       "    <tr>\n",
       "      <th>1</th>\n",
       "      <td>Aaliya</td>\n",
       "      <td>Anwaar</td>\n",
       "      <td>anwaara0</td>\n",
       "      <td>NaN</td>\n",
       "    </tr>\n",
       "    <tr>\n",
       "      <th>2</th>\n",
       "      <td>Afrin</td>\n",
       "      <td>Mohammed Roshanara</td>\n",
       "      <td>mohammeda1</td>\n",
       "      <td>NaN</td>\n",
       "    </tr>\n",
       "    <tr>\n",
       "      <th>3</th>\n",
       "      <td>Aparna</td>\n",
       "      <td>Krishnan</td>\n",
       "      <td>krishnana0</td>\n",
       "      <td>NaN</td>\n",
       "    </tr>\n",
       "    <tr>\n",
       "      <th>4</th>\n",
       "      <td>Atefeh</td>\n",
       "      <td>Habibi</td>\n",
       "      <td>habibia0</td>\n",
       "      <td>NaN</td>\n",
       "    </tr>\n",
       "    <tr>\n",
       "      <th>5</th>\n",
       "      <td>Avani</td>\n",
       "      <td>Bhat</td>\n",
       "      <td>bhata0</td>\n",
       "      <td>NaN</td>\n",
       "    </tr>\n",
       "  </tbody>\n",
       "</table>\n",
       "</div>"
      ],
      "text/plain": [
       "   first_name           last_name gitlab_name gitlab_path\n",
       "id                                                       \n",
       "1      Aaliya              Anwaar    anwaara0         NaN\n",
       "2       Afrin  Mohammed Roshanara  mohammeda1         NaN\n",
       "3      Aparna            Krishnan  krishnana0         NaN\n",
       "4      Atefeh              Habibi    habibia0         NaN\n",
       "5       Avani                Bhat      bhata0         NaN"
      ]
     },
     "execution_count": 15,
     "metadata": {},
     "output_type": "execute_result"
    }
   ],
   "source": [
    "df_student: pd.DataFrame = pd.read_csv(\n",
    "    filepath_or_buffer=\"./data/students.tsv\",\n",
    "    sep=\"\\t\",\n",
    "    index_col=\"id\",\n",
    ")\n",
    "df_student.head()"
   ]
  },
  {
   "cell_type": "code",
   "execution_count": 16,
   "metadata": {},
   "outputs": [
    {
     "data": {
      "text/plain": [
       "16"
      ]
     },
     "execution_count": 16,
     "metadata": {},
     "output_type": "execute_result"
    }
   ],
   "source": [
    "df_student.to_sql(name=\"student\", con=engine, if_exists=\"append\")"
   ]
  },
  {
   "cell_type": "markdown",
   "metadata": {},
   "source": [
    "##### Student Interaction"
   ]
  },
  {
   "cell_type": "code",
   "execution_count": 17,
   "metadata": {},
   "outputs": [
    {
     "data": {
      "text/html": [
       "<div>\n",
       "<style scoped>\n",
       "    .dataframe tbody tr th:only-of-type {\n",
       "        vertical-align: middle;\n",
       "    }\n",
       "\n",
       "    .dataframe tbody tr th {\n",
       "        vertical-align: top;\n",
       "    }\n",
       "\n",
       "    .dataframe thead th {\n",
       "        text-align: right;\n",
       "    }\n",
       "</style>\n",
       "<table border=\"1\" class=\"dataframe\">\n",
       "  <thead>\n",
       "    <tr style=\"text-align: right;\">\n",
       "      <th></th>\n",
       "      <th>interaction_type</th>\n",
       "      <th>student_a_id</th>\n",
       "      <th>student_b_id</th>\n",
       "    </tr>\n",
       "    <tr>\n",
       "      <th>id</th>\n",
       "      <th></th>\n",
       "      <th></th>\n",
       "      <th></th>\n",
       "    </tr>\n",
       "  </thead>\n",
       "  <tbody>\n",
       "    <tr>\n",
       "      <th>1</th>\n",
       "      <td>IN_SAME_LAB</td>\n",
       "      <td>1</td>\n",
       "      <td>2</td>\n",
       "    </tr>\n",
       "    <tr>\n",
       "      <th>2</th>\n",
       "      <td>IN_SAME_LAB</td>\n",
       "      <td>1</td>\n",
       "      <td>3</td>\n",
       "    </tr>\n",
       "    <tr>\n",
       "      <th>3</th>\n",
       "      <td>IN_SAME_LAB</td>\n",
       "      <td>1</td>\n",
       "      <td>4</td>\n",
       "    </tr>\n",
       "    <tr>\n",
       "      <th>4</th>\n",
       "      <td>IN_SAME_LAB</td>\n",
       "      <td>1</td>\n",
       "      <td>5</td>\n",
       "    </tr>\n",
       "    <tr>\n",
       "      <th>5</th>\n",
       "      <td>IN_SAME_LAB</td>\n",
       "      <td>1</td>\n",
       "      <td>6</td>\n",
       "    </tr>\n",
       "  </tbody>\n",
       "</table>\n",
       "</div>"
      ],
      "text/plain": [
       "   interaction_type  student_a_id  student_b_id\n",
       "id                                             \n",
       "1       IN_SAME_LAB             1             2\n",
       "2       IN_SAME_LAB             1             3\n",
       "3       IN_SAME_LAB             1             4\n",
       "4       IN_SAME_LAB             1             5\n",
       "5       IN_SAME_LAB             1             6"
      ]
     },
     "execution_count": 17,
     "metadata": {},
     "output_type": "execute_result"
    }
   ],
   "source": [
    "df_student_interaction: pd.DataFrame = pd.read_csv(\n",
    "    filepath_or_buffer=\"./data/student_interaction.tsv\",\n",
    "    sep=\"\\t\",\n",
    "    index_col=\"id\",\n",
    ")\n",
    "df_student_interaction.head()"
   ]
  },
  {
   "cell_type": "code",
   "execution_count": 18,
   "metadata": {},
   "outputs": [
    {
     "data": {
      "text/plain": [
       "240"
      ]
     },
     "execution_count": 18,
     "metadata": {},
     "output_type": "execute_result"
    }
   ],
   "source": [
    "df_student_interaction.to_sql(\n",
    "    name=\"student_interaction\", \n",
    "    con=engine, \n",
    "    if_exists=\"append\"\n",
    ")"
   ]
  },
  {
   "cell_type": "markdown",
   "metadata": {},
   "source": [
    "## Create a Neo4j For Student Interactions Graph"
   ]
  },
  {
   "cell_type": "code",
   "execution_count": 19,
   "metadata": {},
   "outputs": [],
   "source": [
    "NEO_PASSWORD = \"neo4j_passwd\"\n",
    "NEO_URI = \"bolt://localhost:7687\"\n",
    "NEO_USER = \"neo4j\"\n",
    "NEO_DB = \"neo4j\""
   ]
  },
  {
   "cell_type": "code",
   "execution_count": 20,
   "metadata": {},
   "outputs": [],
   "source": [
    "def get_cypher_props(props: dict) -> str:\n",
    "    \"\"\"Convert dictionary to cypher compliant properties as string.\"\"\"\n",
    "    props_str: str = \"\"\n",
    "    props_array: list[str] = []\n",
    "    if props:\n",
    "        for k, v in props.items():\n",
    "            if (isinstance(v, (str, int, list)) and v) or (\n",
    "                isinstance(v, float) and not np.isnan(v)\n",
    "            ):\n",
    "                cypher_str: str = f\"`{k}`: \" + json.dumps(v)\n",
    "                props_array.append(cypher_str)\n",
    "        if props_array:\n",
    "            props_str = \"{\" + \", \".join(props_array) + \"}\"\n",
    "    return props_str"
   ]
  },
  {
   "cell_type": "code",
   "execution_count": 21,
   "metadata": {},
   "outputs": [],
   "source": [
    "neo_driver: neo4j.Driver = neo4j.GraphDatabase.driver(\n",
    "    uri=NEO_URI,\n",
    "    auth=(NEO_USER, NEO_PASSWORD),\n",
    "    database=NEO_DB,\n",
    ")\n",
    "neo_session: neo4j.Session = neo_driver.session()"
   ]
  },
  {
   "cell_type": "code",
   "execution_count": 22,
   "metadata": {},
   "outputs": [
    {
     "data": {
      "text/plain": [
       "<neo4j._sync.work.result.Result at 0x1e42c58bbd0>"
      ]
     },
     "execution_count": 22,
     "metadata": {},
     "output_type": "execute_result"
    }
   ],
   "source": [
    "# delete all node and relationships\n",
    "neo_session.run(\"MATCH (n) DETACH DELETE n\")"
   ]
  },
  {
   "cell_type": "code",
   "execution_count": 23,
   "metadata": {},
   "outputs": [
    {
     "name": "stderr",
     "output_type": "stream",
     "text": [
      "100%|██████████| 16/16 [00:00<00:00, 3994.10it/s]\n"
     ]
    },
    {
     "data": {
      "text/plain": [
       "<neo4j._sync.work.result.Result at 0x1e42fb63550>"
      ]
     },
     "execution_count": 23,
     "metadata": {},
     "output_type": "execute_result"
    }
   ],
   "source": [
    "# add nodes\n",
    "cypher_nodes: list[str] = []\n",
    "df: pd.DataFrame = pd.read_sql_table(table_name=\"student\", con=engine)\n",
    "for idx, props in tqdm(df.iterrows(), total=df.shape[0]):\n",
    "    cypher_props: str = get_cypher_props(props=dict(props))\n",
    "    cypher_nodes.append(\"(:Student \" + cypher_props + \")\")\n",
    "\n",
    "neo_session.run(\"CREATE \" + \",\".join(cypher_nodes))"
   ]
  },
  {
   "cell_type": "code",
   "execution_count": 24,
   "metadata": {},
   "outputs": [
    {
     "name": "stderr",
     "output_type": "stream",
     "text": [
      "  0%|          | 0/240 [00:00<?, ?it/s]"
     ]
    },
    {
     "name": "stderr",
     "output_type": "stream",
     "text": [
      "100%|██████████| 240/240 [00:03<00:00, 76.03it/s]\n"
     ]
    }
   ],
   "source": [
    "df: pd.DataFrame = pd.read_sql_table(\n",
    "    table_name=\"student_interaction\", \n",
    "    con=engine\n",
    ")\n",
    "for idx, props in tqdm(df.iterrows(), total=df.shape[0]):\n",
    "    cypher_props: str = get_cypher_props(props=dict(props))\n",
    "    cypher = f\"\"\"MATCH\n",
    "        (student_a:Student {{id: {props.student_a_id}}}),\n",
    "        (student_b:Student {{id: {props.student_b_id}}})\n",
    "        MERGE (student_a)-[r:IN_SAME_LAB {cypher_props}]->(student_b)\"\"\"\n",
    "    neo_session.run(cypher)"
   ]
  },
  {
   "cell_type": "markdown",
   "metadata": {},
   "source": [
    "After all this open http://localhost:7474 and log in with user: neo4j and password: neo4j_passwd."
   ]
  }
 ],
 "metadata": {
  "kernelspec": {
   "display_name": ".venv",
   "language": "python",
   "name": "python3"
  },
  "language_info": {
   "codemirror_mode": {
    "name": "ipython",
    "version": 3
   },
   "file_extension": ".py",
   "mimetype": "text/x-python",
   "name": "python",
   "nbconvert_exporter": "python",
   "pygments_lexer": "ipython3",
   "version": "3.11.7"
  }
 },
 "nbformat": 4,
 "nbformat_minor": 2
}
